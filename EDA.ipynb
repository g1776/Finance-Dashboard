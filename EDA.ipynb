{
 "cells": [
  {
   "cell_type": "code",
   "execution_count": 1,
   "metadata": {},
   "outputs": [],
   "source": [
    "import pandas as pd"
   ]
  },
  {
   "attachments": {},
   "cell_type": "markdown",
   "metadata": {},
   "source": [
    "# Load"
   ]
  },
  {
   "cell_type": "code",
   "execution_count": 40,
   "metadata": {},
   "outputs": [],
   "source": [
    "def load_data():\n",
    "    df = pd.read_csv(r\"C:\\Users\\grego\\Downloads\\Checking1.csv\", header=None)\n",
    "\n",
    "    # give the columns names, and drop the columns we don't need\n",
    "    df.columns = [\"Date\", \"Amount\", \"DROP\", \"DROP2\", \"Description\"]\n",
    "    df.drop([\"DROP\", \"DROP2\"], axis=1, inplace=True)\n",
    "\n",
    "    # convert the date column to datetime\n",
    "    df[\"Date\"] = pd.to_datetime(df[\"Date\"])\n",
    "\n",
    "    # sort the dataframe by date\n",
    "    df.sort_values(by=\"Date\", inplace=True)\n",
    "    \n",
    "    return df"
   ]
  },
  {
   "cell_type": "code",
   "execution_count": 41,
   "metadata": {},
   "outputs": [
    {
     "data": {
      "text/html": [
       "<div>\n",
       "<style scoped>\n",
       "    .dataframe tbody tr th:only-of-type {\n",
       "        vertical-align: middle;\n",
       "    }\n",
       "\n",
       "    .dataframe tbody tr th {\n",
       "        vertical-align: top;\n",
       "    }\n",
       "\n",
       "    .dataframe thead th {\n",
       "        text-align: right;\n",
       "    }\n",
       "</style>\n",
       "<table border=\"1\" class=\"dataframe\">\n",
       "  <thead>\n",
       "    <tr style=\"text-align: right;\">\n",
       "      <th></th>\n",
       "      <th>Date</th>\n",
       "      <th>Amount</th>\n",
       "      <th>Description</th>\n",
       "    </tr>\n",
       "  </thead>\n",
       "  <tbody>\n",
       "    <tr>\n",
       "      <th>358</th>\n",
       "      <td>2023-01-03</td>\n",
       "      <td>-14.47</td>\n",
       "      <td>PURCHASE AUTHORIZED ON 12/30 STARBUCKS STORE 0...</td>\n",
       "    </tr>\n",
       "    <tr>\n",
       "      <th>357</th>\n",
       "      <td>2023-01-03</td>\n",
       "      <td>-26.88</td>\n",
       "      <td>PURCHASE AUTHORIZED ON 12/30 SQ *ACME GALLERY ...</td>\n",
       "    </tr>\n",
       "    <tr>\n",
       "      <th>356</th>\n",
       "      <td>2023-01-03</td>\n",
       "      <td>-27.62</td>\n",
       "      <td>PURCHASE AUTHORIZED ON 01/02 SUNOCO 80014559 P...</td>\n",
       "    </tr>\n",
       "    <tr>\n",
       "      <th>353</th>\n",
       "      <td>2023-01-04</td>\n",
       "      <td>-12.47</td>\n",
       "      <td>PURCHASE AUTHORIZED ON 01/04 HUDSONNEWS ST858 ...</td>\n",
       "    </tr>\n",
       "    <tr>\n",
       "      <th>355</th>\n",
       "      <td>2023-01-04</td>\n",
       "      <td>200.00</td>\n",
       "      <td>ONLINE TRANSFER FROM GLATZER G WAY2SAVE SAVING...</td>\n",
       "    </tr>\n",
       "  </tbody>\n",
       "</table>\n",
       "</div>"
      ],
      "text/plain": [
       "          Date  Amount                                        Description\n",
       "358 2023-01-03  -14.47  PURCHASE AUTHORIZED ON 12/30 STARBUCKS STORE 0...\n",
       "357 2023-01-03  -26.88  PURCHASE AUTHORIZED ON 12/30 SQ *ACME GALLERY ...\n",
       "356 2023-01-03  -27.62  PURCHASE AUTHORIZED ON 01/02 SUNOCO 80014559 P...\n",
       "353 2023-01-04  -12.47  PURCHASE AUTHORIZED ON 01/04 HUDSONNEWS ST858 ...\n",
       "355 2023-01-04  200.00  ONLINE TRANSFER FROM GLATZER G WAY2SAVE SAVING..."
      ]
     },
     "execution_count": 41,
     "metadata": {},
     "output_type": "execute_result"
    }
   ],
   "source": [
    "df = load_data()\n",
    "df.head()"
   ]
  },
  {
   "attachments": {},
   "cell_type": "markdown",
   "metadata": {},
   "source": [
    "# Explore"
   ]
  },
  {
   "cell_type": "code",
   "execution_count": 61,
   "metadata": {},
   "outputs": [],
   "source": [
    "def clean_description(df):\n",
    "    \"\"\"Call this function to clean the description column of the dataframe.\"\"\"\n",
    "\n",
    "    descr_clean = df.copy()\n",
    "\n",
    "    # remove all of these patterns from the description column\n",
    "    patterns = [\n",
    "        r'PURCHASE AUTHORIZED ON \\d{2}/\\d{2}',\n",
    "        r'\\b\\w{16}\\sCARD\\s\\d{4}\\b',\n",
    "        r\"PURCHASE INTL AUTHORIZED ON \\d{2}/\\d{2}\"\n",
    "    ]\n",
    "    for pattern in patterns:\n",
    "        descr_clean['Description'] = descr_clean['Description'].str.replace(pattern, '', regex=True).str.strip()\n",
    "\n",
    "    return descr_clean"
   ]
  },
  {
   "cell_type": "code",
   "execution_count": 84,
   "metadata": {},
   "outputs": [
    {
     "data": {
      "application/vnd.plotly.v1+json": {
       "config": {
        "plotlyServerURL": "https://plot.ly"
       },
       "data": [
        {
         "alignmentgroup": "True",
         "customdata": [
          [
           "STARBUCKS STORE 00 YARDLEY PA"
          ],
          [
           "SQ *ACME GALLERY A CANANDAIGUA NY"
          ],
          [
           "SUNOCO 80014559 PENN YAN NY"
          ],
          [
           "HUDSONNEWS ST858 DES PLAINES IL"
          ],
          [
           "BURGER KING #13787 HALLSTEAD PA"
          ],
          [
           "STARBUCKS STORE 00 YARDLEY PA"
          ],
          [
           "Ventra 151 N. Michi Chicago IL"
          ],
          [
           "Ventra 940 W. Diver Chicago IL"
          ],
          [
           "SKYDECK CHICAGO - CHICAGO IL"
          ],
          [
           "SEE TICKETS *Sitco 323-9080607 CA"
          ],
          [
           "VENMO PAYMENT 230108 1024572913957 GREGORY GLATZER"
          ],
          [
           "WINE AND SPIRITS 1405 STATE COLLEGE PA"
          ],
          [
           "SQ *THE BLUE & WHI State College PA"
          ],
          [
           "TARGET 0001 STATE COLLEGE PA"
          ],
          [
           "TST* Berghoff Cafe Chicago IL"
          ],
          [
           "MANCHU WOK T1C ORD CHICAGO IL"
          ],
          [
           "TST* IO THEATER CHICAGO IL"
          ],
          [
           "TST* STAN'S DONUTS CHICAGO IL"
          ],
          [
           "STARBUCKS 75868 42 LAWN PA"
          ],
          [
           "TARGET 0003 STATE COLLEGE PA"
          ],
          [
           "SQ *VIBE COFFEE CO State College PA"
          ],
          [
           "TARGET 0003 STATE COLLEGE PA"
          ],
          [
           "PSU-MAIN-BKSTORE UNIVERSITY PA PA"
          ],
          [
           "TARGET 0003 STATE COLLEGE PA"
          ],
          [
           "SQ *ELIXR STATE CO State College PA"
          ],
          [
           "PENN STATE FOOD SE UNIVERSITY PA PA"
          ],
          [
           "PANERA BREAD #6092 UNIVERSITYPAR PA"
          ],
          [
           "PAYPAL *MCGRAWHILL 800-338-3987 NY"
          ],
          [
           "PSU VENDING 1-855- DUNBAR PA"
          ],
          [
           "438PEPSIVEN9147678 ALTOONA PA"
          ],
          [
           "GREEN BOWL STATE COLLEGE PA"
          ],
          [
           "BARNESNOBLE 365 Benner Pi State College PA"
          ],
          [
           "GET AIR STATE COLL STATE COLLEGE PA"
          ],
          [
           "INSOMNIA COOKIES-S STATE COLLEGE PA"
          ],
          [
           "TST* El Jefes - Pe State College PA"
          ],
          [
           "NORTHLAND BWL/ARENA B& STATE COLLEGE PA"
          ],
          [
           "VENMO PAYMENT 230114 1024695536967 GREGORY GLATZER"
          ],
          [
           "SQ *ELIXR STATE CO State College PA"
          ],
          [
           "TST* Doggies Pub State College PA"
          ],
          [
           "NORTHLAND BWL/ARENA B& STATE COLLEGE PA"
          ],
          [
           "SQ *ELIXR STATE CO State College PA"
          ],
          [
           "PANERA BREAD #6092 UNIVERSITY PA PA"
          ],
          [
           "SHEETZ 0339 0000 STATE COLLEGE PA"
          ],
          [
           "VENMO PAYMENT 230119 1024777687705 GREGORY GLATZER"
          ],
          [
           "PANERA BREAD #6092 UNIVERSITY PA PA"
          ],
          [
           "VENMO PAYMENT 230120 1024814956468 GREGORY GLATZER"
          ],
          [
           "C Penn State Apt Rent 230119 XXXXX6929 Gregory J Glatzer"
          ],
          [
           "438PEPSIVEN9147678 ALTOONA PA"
          ],
          [
           "SQ *ELIXR STATE CO State College PA"
          ],
          [
           "VENMO PAYMENT 230121 1024823017958 GREGORY GLATZER"
          ],
          [
           "CRACKER BARREL #68 STATE COLLEGE PA"
          ],
          [
           "TARGET 0001 STATE COLLEGE PA"
          ],
          [
           "PANERA BREAD #6092 UNIVERSITY PA PA"
          ],
          [
           "TARGET 0003 STATE COLLEGE PA"
          ],
          [
           "VENMO PAYMENT 230124 1024883838099 GREGORY GLATZER"
          ],
          [
           "SQ *ELIXR STATE CO State College PA"
          ],
          [
           "SQ *ELIXR STATE CO State College PA"
          ],
          [
           "TST* SMOKEY AXE GR PLEASANT GAP PA"
          ],
          [
           "AXEMANN BREWERY BELLEFONTE PA"
          ],
          [
           "TARGET 0003 STATE COLLEGE PA"
          ],
          [
           "GIANT MARTINS #6524 21 STATE COLLEGE PA"
          ],
          [
           "CAFE 210 WEST STATE COLLEGE PA"
          ],
          [
           "For Men Only State College PA"
          ],
          [
           "SQ *VIBE COFFEE State College PA"
          ],
          [
           "SQ *IRVING'S State College PA"
          ],
          [
           "APPLEBEES STAT9220 STATE COLLEGE PA"
          ],
          [
           "438PEPSIVEN9147678 ALTOONA PA"
          ],
          [
           "PENN STATE FOOD SE UNIVERSITY PA PA"
          ],
          [
           "PANERA BREAD #6092 UNIVERSITYPAR PA"
          ],
          [
           "PANERA BREAD #6092 UNIVERSITY PA PA"
          ],
          [
           "SQ *ELIXR STATE CO State College PA"
          ],
          [
           "PANERA BREAD #6092 UNIVERSITYPAR PA"
          ],
          [
           "SQ *IRVING'S State College PA"
          ],
          [
           "TARGET 0003 STATE COLLEGE PA"
          ],
          [
           "SQ *VIBE COFFEE State College PA"
          ],
          [
           "INDIA PAVILION STATE COLLEGE PA"
          ],
          [
           "VENMO PAYMENT 230204 1025096293840 GREGORY GLATZER"
          ],
          [
           "VENMO PAYMENT 230206 1025136535167 GREGORY GLATZER"
          ],
          [
           "PANERA BREAD #6092 UNIVERSITY PA PA"
          ],
          [
           "SQ *ELIXR STATE CO State College PA"
          ],
          [
           "PENN STATE FOOD SE UNIVERSITY PA PA"
          ],
          [
           "PSU VENDING 1-855- DUNBAR PA"
          ],
          [
           "PANERA BREAD #6092 UNIVERSITYPAR PA"
          ],
          [
           "C Penn State Apt Rent 230210 XXXXX3564 Gregory J Glatzer"
          ],
          [
           "SQ *SOWERS HARVEST State College PA"
          ],
          [
           "UEC COLLEGE 9 STATE COLLEGE PA"
          ],
          [
           "PENN STATE FOOD SE UNIVERSITY PA PA"
          ],
          [
           "PLAZA AZTECA STATE STATE COLLEGE PA"
          ],
          [
           "PENN STATE FOOD SE UNIVERSITY PA PA"
          ],
          [
           "SHEETZ 0287 0000 STATE COLLEGE PA"
          ],
          [
           "PSU VENDING 1-855- DUNBAR PA"
          ],
          [
           "TARGET 0003 STATE COLLEGE PA"
          ],
          [
           "TARGET 0003 STATE COLLEGE PA"
          ],
          [
           "PSU VENDING 1-855- DUNBAR PA"
          ],
          [
           "MICHAELS STORES 27 STATE COLLEGE PA"
          ],
          [
           "WEGMANS #098 STATE COLLEGE PA"
          ],
          [
           "WEGMANS #098 STATE COLLEGE PA"
          ],
          [
           "SQ *VIBE COFFEE State College PA"
          ],
          [
           "PANERA BREAD #6092 UNIVERSITYPAR PA"
          ],
          [
           "PANDA EXPRESS 502 UNIVERSITY PA PA"
          ],
          [
           "VENMO PAYMENT 230221 1025411758650 GREGORY GLATZER"
          ],
          [
           "PANDA EXPRESS 502 UNIVERSITY PA PA"
          ],
          [
           "438PEPSIVEN9147678 ALTOONA PA"
          ],
          [
           "SQ *ELIXR STATE CO State College PA"
          ],
          [
           "PENN STATE FOOD SE UNIVERSITY PA PA"
          ],
          [
           "THE BASEMENT NIGHT STATE COLLEGE PA"
          ],
          [
           "438PEPSIVEN9147678 ALTOONA PA"
          ],
          [
           "C Penn State Apt Rent 230221 XXXXX3988 Gregory J Glatzer"
          ],
          [
           "PENN STATE FOOD SE UNIVERSITY PA PA"
          ],
          [
           "NOODLES & CO 733 STATE COLLEGE PA"
          ],
          [
           "PSU CREAMERY UNIVERSITY PK PA"
          ],
          [
           "TARGET 0003 STATE COLLEGE PA"
          ],
          [
           "CONTINENTAL LAUNDR PITTSBURGH PA"
          ],
          [
           "CONTINENTAL LAUNDR PITTSBURGH PA"
          ],
          [
           "SQ *VIBE COFFEE State College PA"
          ],
          [
           "TARGET 0003 STATE COLLEGE PA"
          ],
          [
           "RECURRING PAYMENT AUTHORIZED ON 02/25 DNH*GODADDY.COM 480-5058855 AZ"
          ],
          [
           "DUNKIN #345541 Q35 STATE COLLEGE PA"
          ],
          [
           "DUNKIN #349071 Q35 STATE COLLEGE PA"
          ],
          [
           "VENMO PAYMENT 230226 1025500025345 GREGORY GLATZER"
          ],
          [
           "VENMO PAYMENT 230228 1025547274657 GREGORY GLATZER"
          ],
          [
           "SQ *VIBE COFFEE State College PA"
          ],
          [
           "TARGET 0003 STATE COLLEGE PA"
          ],
          [
           "VENMO PAYMENT 230301 1025554225157 GREGORY GLATZER"
          ],
          [
           "VENMO PAYMENT 230301 1025554227718 GREGORY GLATZER"
          ],
          [
           "PENN STATE FOOD SE UNIVERSITY PA PA"
          ],
          [
           "438PEPSIVEN9147678 ALTOONA PA"
          ],
          [
           "PSU VENDING 1-855- DUNBAR PA"
          ],
          [
           "PANERA BREAD #6092 UNIVERSITY PA PA"
          ],
          [
           "WEPAPRINTINGDEPOSI 8006757639 AL"
          ],
          [
           "PANDA EXPRESS 502 UNIVERSITY PA PA"
          ],
          [
           "PANERA BREAD #6092 UNIVERSITYPAR PA"
          ],
          [
           "TARGET 0003 STATE COLLEGE PA"
          ],
          [
           "INTERNATIONAL PURCHASE TRANSACTION FEE"
          ],
          [
           "Bayerische Zugspit Garmisch-Part DEU"
          ],
          [
           "INTERNATIONAL PURCHASE TRANSACTION FEE"
          ],
          [
           "VENMO PAYMENT 230305 1025636831117 GREGORY GLATZER"
          ],
          [
           "SUNOCO 03679966 WAYNE PA"
          ],
          [
           "CAFFE VERGNANO MUENCHEN-FLUG DEU"
          ],
          [
           "VENMO PAYMENT 230305 1025651961523 GREGORY GLATZER"
          ],
          [
           "TST* SAXBYS COFFEE UNIVERSITY PA PA"
          ],
          [
           "SHEETZ 0475 0000 STATE COLLEGE PA"
          ],
          [
           "Food Container Gmb Munchen DEU"
          ],
          [
           "INTERNATIONAL PURCHASE TRANSACTION FEE"
          ],
          [
           "VENMO PAYMENT 230307 1025688951908 GREGORY GLATZER"
          ],
          [
           "INTERNATIONAL PURCHASE TRANSACTION FEE"
          ],
          [
           "DB Vertrieb GmbH 418ASN DEU"
          ],
          [
           "INTERNATIONAL PURCHASE TRANSACTION FEE"
          ],
          [
           "SUMUP *GALLMETZER MUNCHEN DEU"
          ],
          [
           "INTERNATIONAL PURCHASE TRANSACTION FEE"
          ],
          [
           "SUMUP *FORDERKREI MUNCHEN DEU"
          ],
          [
           "INTERNATIONAL PURCHASE TRANSACTION FEE"
          ],
          [
           "LEGO Store, Munich Munich DEU"
          ],
          [
           "Frau im Mond Muenchen DEU"
          ],
          [
           "INTERNATIONAL PURCHASE TRANSACTION FEE"
          ],
          [
           "Hoflinger 10136 Munchen DEU"
          ],
          [
           "INTERNATIONAL PURCHASE TRANSACTION FEE"
          ],
          [
           "GASTRO Garmisch-Part DEU"
          ],
          [
           "INTERNATIONAL PURCHASE TRANSACTION FEE"
          ],
          [
           "DB Vertrieb GmbH 6ZUORD DEU"
          ],
          [
           "INTERNATIONAL PURCHASE TRANSACTION FEE"
          ],
          [
           "VENMO PAYMENT 230309 1025722006622 GREGORY GLATZER"
          ],
          [
           "VENMO PAYMENT 230309 1025726661758 GREGORY GLATZER"
          ],
          [
           "VENMO PAYMENT 230309 1025725162113 GREGORY GLATZER"
          ],
          [
           "VENMO PAYMENT 230310 1025742884413 GREGORY GLATZER"
          ],
          [
           "COFFEE FELLOWS BAY MUENCHEN DEU"
          ],
          [
           "INTERNATIONAL PURCHASE TRANSACTION FEE"
          ],
          [
           "VENMO PAYMENT 230313 1025808817496 GREGORY GLATZER"
          ],
          [
           "WAWA 8020 LEVITTOWN PA"
          ],
          [
           "STARBUCKS D CLT CHARLOTTE NC"
          ],
          [
           "EINSTEIN BRO BAGEL 704-3590199 NC"
          ],
          [
           "INTERNATIONAL PURCHASE TRANSACTION FEE"
          ],
          [
           "Schloss und Garten Muenchen DEU"
          ],
          [
           "INTERNATIONAL PURCHASE TRANSACTION FEE"
          ],
          [
           "DB Vertrieb GmbH HRD4WV DEU"
          ],
          [
           "Flgh .Muenchen Che Munchen DEU"
          ],
          [
           "INTERNATIONAL PURCHASE TRANSACTION FEE"
          ],
          [
           "PANERA BREAD #6092 UNIVERSITY PA PA"
          ],
          [
           "RECURRING PAYMENT AUTHORIZED ON 03/13 GOOGLE *Google Sto 855-836-3987 CA"
          ],
          [
           "FREETAXUSA.COM 877-2699027 UT"
          ],
          [
           "438PEPSIVEN9147678 ALTOONA PA"
          ],
          [
           "PENN STATE FOOD SE UNIVERSITY PA PA"
          ],
          [
           "PANERA BREAD #6092 UNIVERSITYPAR PA"
          ],
          [
           "PSU VENDING 1-855- DUNBAR PA"
          ],
          [
           "PENN STATE FOOD SE UNIVERSITY PA PA"
          ],
          [
           "PENN STATE FOOD SE UNIVERSITY PA PA"
          ],
          [
           "438PEPSIVEN9147678 ALTOONA PA"
          ],
          [
           "SQ *ELIXR STATE CO State College PA"
          ],
          [
           "TARGET 0003 STATE COLLEGE PA"
          ],
          [
           "DOGGIES PUB STATE COLLEGE PA"
          ],
          [
           "C Penn State Apt Rent 230320 XXXXX2414 Gregory J Glatzer"
          ],
          [
           "DUNKIN #345541 Q35 STATE COLLEGE PA"
          ],
          [
           "SQ *ELIXR STATE CO State College PA"
          ],
          [
           "RAISING CANE'S 073 STATE COLLEGE PA"
          ],
          [
           "CONTINENTAL LAUNDR PITTSBURGH PA"
          ],
          [
           "SQ *SAULY BOY'S State College PA"
          ],
          [
           "FANDANGO 8668575191 CA"
          ],
          [
           "RECURRING PAYMENT AUTHORIZED ON 03/23 Microsoft*Subscrip 425-6816830 WA"
          ],
          [
           "GIANT MARTINS #6524 21 STATE COLLEGE PA"
          ],
          [
           "SQ *TOASTED State College PA"
          ],
          [
           "PENN STATE FOOD SE UNIVERSITY PA PA"
          ],
          [
           "SHEETZ 0287 0000 STATE COLLEGE PA"
          ],
          [
           "GIANT MARTINS #6524 21 STATE COLLEGE PA"
          ],
          [
           "PENN STATE FOOD SE UNIVERSITY PA PA"
          ],
          [
           "SQ *VIBE COFFEE State College PA"
          ],
          [
           "PSU VENDING 1-855- DUNBAR PA"
          ],
          [
           "SQ *ELIXR STATE CO State College PA"
          ],
          [
           "438PEPSIVEN9147678 ALTOONA PA"
          ],
          [
           "TARGET 0003 STATE COLLEGE PA"
          ],
          [
           "SQ *MCLANAHAN'S DO State College PA"
          ],
          [
           "PENN STATE FOOD SE UNIVERSITY PA PA"
          ],
          [
           "438PEPSIVEN9147678 ALTOONA PA"
          ],
          [
           "ZENO`S STATE COLLEGE PA"
          ],
          [
           "ZENO`S STATE COLLEGE PA"
          ],
          [
           "SQ *VIBE COFFEE State College PA"
          ],
          [
           "PSU VENDING 1-855- DUNBAR PA"
          ],
          [
           "SQ *VIBE COFFEE State College PA"
          ],
          [
           "SP THEANIMALKINGDO 814-2372402 PA"
          ],
          [
           "TARGET 0003 STATE COLLEGE PA"
          ],
          [
           "FANDANGO 8668575191 CA"
          ],
          [
           "UEC THEATRE 12 STA STATE COLLEGE PA"
          ],
          [
           "CONTINENTAL LAUNDR PITTSBURGH PA"
          ],
          [
           "SQ *ELIXR STATE CO State College PA"
          ],
          [
           "PENN STATE FOOD SE UNIVERSITY PA PA"
          ],
          [
           "PSU VENDING 1-855- DUNBAR PA"
          ],
          [
           "TARGET 0003 STATE COLLEGE PA"
          ],
          [
           "PENN STATE FOOD SE UNIVERSITY PA PA"
          ],
          [
           "RECURRING PAYMENT AUTHORIZED ON 04/12 GOOGLE *Google Sto 855-836-3987 CA"
          ],
          [
           "PENN STATE FOOD SE UNIVERSITY PA PA"
          ],
          [
           "TARGET 0003 STATE COLLEGE PA"
          ],
          [
           "SQ *ELIXR STATE CO State College PA"
          ],
          [
           "TARGET 0003 STATE COLLEGE PA"
          ],
          [
           "SQ *SAULY BOY'S State College PA"
          ],
          [
           "CONTINENTAL LAUNDR PITTSBURGH PA"
          ],
          [
           "CONTINENTAL LAUNDR PITTSBURGH PA"
          ],
          [
           "PSU-MAIN-BKSTORE UNIVERSITY PA PA"
          ],
          [
           "PSU-MAIN-BKSTORE UNIVERSITY PA PA"
          ],
          [
           "438PEPSIVEN9147678 ALTOONA PA"
          ],
          [
           "STORE*CHICK-FIL-A WWW.DOORDASH. CA"
          ],
          [
           "PSU VENDING 1-855- DUNBAR PA"
          ],
          [
           "PANERA BREAD #6092 855-372-6372 PA"
          ],
          [
           "GREEN BOWL STATE COLLEGE PA"
          ],
          [
           "SQ *VIBE COFFEE State College PA"
          ],
          [
           "PENN STATE FOOD SE UNIVERSITY PA PA"
          ],
          [
           "438PEPSIVEN9147678 ALTOONA PA"
          ],
          [
           "SQ *MARIN EATS LLC Bellefonte PA"
          ],
          [
           "SQ *ELIXR STATE CO State College PA"
          ],
          [
           "GIANT 6072 255 NORTHLA STATE COLLEGE PA"
          ],
          [
           "AXEMANN BREWERY BELLEFONTE PA"
          ],
          [
           "SQ *SNAP PENN STAT State College PA"
          ],
          [
           "THE PHYRST 814-2381406 PA"
          ],
          [
           "438PEPSIVEN9147678 ALTOONA PA"
          ],
          [
           "PENN STATE FOOD SE UNIVERSITY PA PA"
          ],
          [
           "CAFE 210 WEST STATE COLLEGE PA"
          ],
          [
           "SQ *VIBE COFFEE State College PA"
          ],
          [
           "VENMO PAYMENT 230421 1026560552320 GREGORY GLATZER"
          ],
          [
           "VENMO PAYMENT 230423 1026579593669 GREGORY GLATZER"
          ],
          [
           "C Penn State Apt Rent 230421 XXXXX7405 Gregory J Glatzer"
          ],
          [
           "VENMO PAYMENT 230424 1026597999598 GREGORY GLATZER"
          ],
          [
           "CONTINENTAL LAUNDR PITTSBURGH PA"
          ],
          [
           "TARGET 0003 STATE COLLEGE PA"
          ],
          [
           "SQ *ELIXR STATE CO State College PA"
          ],
          [
           "PAYPAL *GODADDY.CO 402-935-7733 AZ"
          ],
          [
           "CHICK-FIL-A #02603 STATE COLLEGE PA"
          ],
          [
           "PSU CREAMERY UNIVERSITY PK PA"
          ],
          [
           "SQ *IRVING'S State College PA"
          ],
          [
           "TST* SAXBYS COFFEE UNIVERSITY PA PA"
          ],
          [
           "PENN STATE FOOD SE UNIVERSITY PA PA"
          ],
          [
           "CAFE 210 WEST STATE COLLEGE PA"
          ],
          [
           "TARGET 0003 STATE COLLEGE PA"
          ],
          [
           "SQ *WEBSTER'S BOOK State College PA"
          ],
          [
           "SQ *ELIXR STATE CO State College PA"
          ],
          [
           "TARGET 0003 STATE COLLEGE PA"
          ],
          [
           "VENMO PAYMENT 230501 1026759610668 GREGORY GLATZER"
          ],
          [
           "SHEETZ 0587 0000 STATE COLLEGE PA"
          ],
          [
           "AUNTIE ANNES PA 33 STATE COLLEGE PA"
          ],
          [
           "CONTINENTAL LAUNDR PITTSBURGH PA"
          ],
          [
           "STARBUCKS STORE 07 STATE COLLEGE PA"
          ],
          [
           "PANERA BREAD #6092 UNIVERSITY PA PA"
          ],
          [
           "SHANDYGAFF STATE COLLEGE PA"
          ],
          [
           "SHEETZ 0587 0000 STATE COLLEGE PA"
          ],
          [
           "SQ *ELIXR STATE CO State College PA"
          ],
          [
           "VENMO PAYMENT 230504 1026823595159 GREGORY GLATZER"
          ],
          [
           "TARGET 0003 STATE COLLEGE PA"
          ],
          [
           "Nintendo CD9776285 800-2553700 WA"
          ],
          [
           "PENN STATE FOOD SE UNIVERSITY PA PA"
          ],
          [
           "COLDSTONE 20796 STATE COLLEGE PA"
          ],
          [
           "SQ *GOOD DAY CAFE State College PA"
          ],
          [
           "WEIS MARKETS 03 STATE COLLEG PA"
          ],
          [
           "VENMO PAYMENT 230509 1026917536743 GREGORY GLATZER"
          ],
          [
           "MEZEH STATE COLLEGE PA"
          ],
          [
           "CONTINENTAL LAUNDR PITTSBURGH PA"
          ],
          [
           "VENMO PAYMENT 230509 1026922156475 GREGORY GLATZER"
          ],
          [
           "SQ *FLO BROS FIRE Bellefonte PA"
          ],
          [
           "SHEETZ 0287 0000 STATE COLLEGE PA"
          ],
          [
           "BARNES & NOBLE #28 STATE COLLEGE PA"
          ],
          [
           "SQ *VIBE COFFEE State College PA"
          ],
          [
           "AXEMANN BREWERY BELLEFONTE PA"
          ],
          [
           "SQ *SOWERS HARVEST State College PA"
          ],
          [
           "VENMO PAYMENT 230512 1026982431752 GREGORY GLATZER"
          ],
          [
           "SQ *YINZ COFFEE NO Pittsburgh PA"
          ],
          [
           "MATTRESS FACTORY WWW.MATTRESS. PA"
          ],
          [
           "VENMO PAYMENT 230512 1026983220073 GREGORY GLATZER"
          ],
          [
           "RECURRING PAYMENT AUTHORIZED ON 05/12 GOOGLE *Google Sto g.co/helppay# CA"
          ],
          [
           "SQ *IRVING'S State College PA"
          ],
          [
           "AUNTIE ANNE'S #PA2 PITTSBURGH PA"
          ],
          [
           "EAT_N_PARK #0087 PITTSBURGH PA"
          ],
          [
           "VENMO PAYMENT 230516 1027041245361 GREGORY GLATZER"
          ],
          [
           "SHEETZ 0580 0000 HARRISBURG PA"
          ],
          [
           "DUNKIN #341350 Q35 YARDLEY PA"
          ],
          [
           "STARBUCKS STORE 00 YARDLEY PA"
          ],
          [
           "SP FEHRENBACH BFC 126-75440246 PA"
          ],
          [
           "SHOPRITE YARDLEY S1 YARDLEY PA"
          ],
          [
           "NAYAX VENDING 47 HUNT VALLEY MD"
          ],
          [
           "NAYAX VENDING 47 HUNT VALLEY MD"
          ],
          [
           "TST* YARDLEY BAGEL YARDLEY PA"
          ],
          [
           "NEWTOWN ICE HOUSE GEORGE SCHOOL PA"
          ],
          [
           "CVS/PHARMACY #0549 YARDLEY PA"
          ],
          [
           "SQ *MR. WISH LEVIT Levittown PA"
          ],
          [
           "C Penn State Apt Rent 230522 XXXXX8012 Gregory J Glatzer"
          ],
          [
           "SQ *CALM WATERS CO Newtown PA"
          ],
          [
           "VENMO PAYMENT 230524 1027206004135 GREGORY GLATZER"
          ],
          [
           "MCCAFFREYS MARKETS YARDLEY PA"
          ]
         ],
         "hovertemplate": "Date: %{x}<br>Amount: %{y}<br>Description: %{customdata[0]}",
         "legendgroup": "red",
         "marker": {
          "color": "red",
          "pattern": {
           "shape": ""
          }
         },
         "name": "red",
         "offsetgroup": "red",
         "orientation": "v",
         "showlegend": true,
         "textposition": "auto",
         "type": "bar",
         "x": [
          "2023-01-03T00:00:00",
          "2023-01-03T00:00:00",
          "2023-01-03T00:00:00",
          "2023-01-04T00:00:00",
          "2023-01-04T00:00:00",
          "2023-01-05T00:00:00",
          "2023-01-05T00:00:00",
          "2023-01-06T00:00:00",
          "2023-01-06T00:00:00",
          "2023-01-06T00:00:00",
          "2023-01-09T00:00:00",
          "2023-01-09T00:00:00",
          "2023-01-09T00:00:00",
          "2023-01-09T00:00:00",
          "2023-01-09T00:00:00",
          "2023-01-09T00:00:00",
          "2023-01-09T00:00:00",
          "2023-01-09T00:00:00",
          "2023-01-09T00:00:00",
          "2023-01-09T00:00:00",
          "2023-01-10T00:00:00",
          "2023-01-10T00:00:00",
          "2023-01-11T00:00:00",
          "2023-01-12T00:00:00",
          "2023-01-12T00:00:00",
          "2023-01-12T00:00:00",
          "2023-01-12T00:00:00",
          "2023-01-13T00:00:00",
          "2023-01-13T00:00:00",
          "2023-01-13T00:00:00",
          "2023-01-13T00:00:00",
          "2023-01-17T00:00:00",
          "2023-01-17T00:00:00",
          "2023-01-17T00:00:00",
          "2023-01-17T00:00:00",
          "2023-01-17T00:00:00",
          "2023-01-17T00:00:00",
          "2023-01-17T00:00:00",
          "2023-01-17T00:00:00",
          "2023-01-17T00:00:00",
          "2023-01-17T00:00:00",
          "2023-01-18T00:00:00",
          "2023-01-18T00:00:00",
          "2023-01-19T00:00:00",
          "2023-01-19T00:00:00",
          "2023-01-20T00:00:00",
          "2023-01-20T00:00:00",
          "2023-01-20T00:00:00",
          "2023-01-20T00:00:00",
          "2023-01-23T00:00:00",
          "2023-01-23T00:00:00",
          "2023-01-23T00:00:00",
          "2023-01-23T00:00:00",
          "2023-01-23T00:00:00",
          "2023-01-24T00:00:00",
          "2023-01-24T00:00:00",
          "2023-01-25T00:00:00",
          "2023-01-26T00:00:00",
          "2023-01-27T00:00:00",
          "2023-01-30T00:00:00",
          "2023-01-30T00:00:00",
          "2023-01-30T00:00:00",
          "2023-01-30T00:00:00",
          "2023-01-30T00:00:00",
          "2023-01-30T00:00:00",
          "2023-01-31T00:00:00",
          "2023-02-01T00:00:00",
          "2023-02-01T00:00:00",
          "2023-02-02T00:00:00",
          "2023-02-02T00:00:00",
          "2023-02-03T00:00:00",
          "2023-02-03T00:00:00",
          "2023-02-06T00:00:00",
          "2023-02-06T00:00:00",
          "2023-02-06T00:00:00",
          "2023-02-06T00:00:00",
          "2023-02-06T00:00:00",
          "2023-02-06T00:00:00",
          "2023-02-07T00:00:00",
          "2023-02-08T00:00:00",
          "2023-02-08T00:00:00",
          "2023-02-08T00:00:00",
          "2023-02-09T00:00:00",
          "2023-02-13T00:00:00",
          "2023-02-13T00:00:00",
          "2023-02-13T00:00:00",
          "2023-02-13T00:00:00",
          "2023-02-13T00:00:00",
          "2023-02-13T00:00:00",
          "2023-02-13T00:00:00",
          "2023-02-13T00:00:00",
          "2023-02-14T00:00:00",
          "2023-02-14T00:00:00",
          "2023-02-15T00:00:00",
          "2023-02-15T00:00:00",
          "2023-02-15T00:00:00",
          "2023-02-15T00:00:00",
          "2023-02-15T00:00:00",
          "2023-02-16T00:00:00",
          "2023-02-21T00:00:00",
          "2023-02-21T00:00:00",
          "2023-02-21T00:00:00",
          "2023-02-21T00:00:00",
          "2023-02-21T00:00:00",
          "2023-02-21T00:00:00",
          "2023-02-21T00:00:00",
          "2023-02-22T00:00:00",
          "2023-02-22T00:00:00",
          "2023-02-23T00:00:00",
          "2023-02-23T00:00:00",
          "2023-02-24T00:00:00",
          "2023-02-24T00:00:00",
          "2023-02-27T00:00:00",
          "2023-02-27T00:00:00",
          "2023-02-27T00:00:00",
          "2023-02-27T00:00:00",
          "2023-02-27T00:00:00",
          "2023-02-27T00:00:00",
          "2023-02-27T00:00:00",
          "2023-02-27T00:00:00",
          "2023-02-28T00:00:00",
          "2023-02-28T00:00:00",
          "2023-03-01T00:00:00",
          "2023-03-01T00:00:00",
          "2023-03-01T00:00:00",
          "2023-03-02T00:00:00",
          "2023-03-02T00:00:00",
          "2023-03-02T00:00:00",
          "2023-03-02T00:00:00",
          "2023-03-02T00:00:00",
          "2023-03-02T00:00:00",
          "2023-03-03T00:00:00",
          "2023-03-03T00:00:00",
          "2023-03-06T00:00:00",
          "2023-03-06T00:00:00",
          "2023-03-06T00:00:00",
          "2023-03-06T00:00:00",
          "2023-03-06T00:00:00",
          "2023-03-06T00:00:00",
          "2023-03-06T00:00:00",
          "2023-03-06T00:00:00",
          "2023-03-06T00:00:00",
          "2023-03-07T00:00:00",
          "2023-03-07T00:00:00",
          "2023-03-07T00:00:00",
          "2023-03-08T00:00:00",
          "2023-03-08T00:00:00",
          "2023-03-08T00:00:00",
          "2023-03-08T00:00:00",
          "2023-03-08T00:00:00",
          "2023-03-08T00:00:00",
          "2023-03-08T00:00:00",
          "2023-03-08T00:00:00",
          "2023-03-08T00:00:00",
          "2023-03-08T00:00:00",
          "2023-03-08T00:00:00",
          "2023-03-08T00:00:00",
          "2023-03-09T00:00:00",
          "2023-03-09T00:00:00",
          "2023-03-09T00:00:00",
          "2023-03-09T00:00:00",
          "2023-03-09T00:00:00",
          "2023-03-09T00:00:00",
          "2023-03-09T00:00:00",
          "2023-03-10T00:00:00",
          "2023-03-10T00:00:00",
          "2023-03-10T00:00:00",
          "2023-03-13T00:00:00",
          "2023-03-13T00:00:00",
          "2023-03-13T00:00:00",
          "2023-03-13T00:00:00",
          "2023-03-13T00:00:00",
          "2023-03-13T00:00:00",
          "2023-03-13T00:00:00",
          "2023-03-13T00:00:00",
          "2023-03-13T00:00:00",
          "2023-03-13T00:00:00",
          "2023-03-14T00:00:00",
          "2023-03-14T00:00:00",
          "2023-03-15T00:00:00",
          "2023-03-15T00:00:00",
          "2023-03-16T00:00:00",
          "2023-03-16T00:00:00",
          "2023-03-17T00:00:00",
          "2023-03-20T00:00:00",
          "2023-03-20T00:00:00",
          "2023-03-20T00:00:00",
          "2023-03-20T00:00:00",
          "2023-03-20T00:00:00",
          "2023-03-20T00:00:00",
          "2023-03-21T00:00:00",
          "2023-03-21T00:00:00",
          "2023-03-22T00:00:00",
          "2023-03-23T00:00:00",
          "2023-03-23T00:00:00",
          "2023-03-23T00:00:00",
          "2023-03-23T00:00:00",
          "2023-03-24T00:00:00",
          "2023-03-27T00:00:00",
          "2023-03-27T00:00:00",
          "2023-03-27T00:00:00",
          "2023-03-27T00:00:00",
          "2023-03-27T00:00:00",
          "2023-03-28T00:00:00",
          "2023-03-28T00:00:00",
          "2023-03-29T00:00:00",
          "2023-03-29T00:00:00",
          "2023-03-31T00:00:00",
          "2023-03-31T00:00:00",
          "2023-04-03T00:00:00",
          "2023-04-03T00:00:00",
          "2023-04-03T00:00:00",
          "2023-04-03T00:00:00",
          "2023-04-03T00:00:00",
          "2023-04-03T00:00:00",
          "2023-04-03T00:00:00",
          "2023-04-04T00:00:00",
          "2023-04-04T00:00:00",
          "2023-04-07T00:00:00",
          "2023-04-07T00:00:00",
          "2023-04-07T00:00:00",
          "2023-04-10T00:00:00",
          "2023-04-11T00:00:00",
          "2023-04-12T00:00:00",
          "2023-04-12T00:00:00",
          "2023-04-12T00:00:00",
          "2023-04-13T00:00:00",
          "2023-04-14T00:00:00",
          "2023-04-14T00:00:00",
          "2023-04-17T00:00:00",
          "2023-04-17T00:00:00",
          "2023-04-17T00:00:00",
          "2023-04-17T00:00:00",
          "2023-04-17T00:00:00",
          "2023-04-17T00:00:00",
          "2023-04-17T00:00:00",
          "2023-04-17T00:00:00",
          "2023-04-17T00:00:00",
          "2023-04-17T00:00:00",
          "2023-04-18T00:00:00",
          "2023-04-18T00:00:00",
          "2023-04-18T00:00:00",
          "2023-04-19T00:00:00",
          "2023-04-19T00:00:00",
          "2023-04-19T00:00:00",
          "2023-04-20T00:00:00",
          "2023-04-20T00:00:00",
          "2023-04-21T00:00:00",
          "2023-04-21T00:00:00",
          "2023-04-21T00:00:00",
          "2023-04-24T00:00:00",
          "2023-04-24T00:00:00",
          "2023-04-24T00:00:00",
          "2023-04-24T00:00:00",
          "2023-04-24T00:00:00",
          "2023-04-24T00:00:00",
          "2023-04-24T00:00:00",
          "2023-04-24T00:00:00",
          "2023-04-24T00:00:00",
          "2023-04-24T00:00:00",
          "2023-04-26T00:00:00",
          "2023-04-26T00:00:00",
          "2023-04-27T00:00:00",
          "2023-04-27T00:00:00",
          "2023-04-28T00:00:00",
          "2023-04-28T00:00:00",
          "2023-04-28T00:00:00",
          "2023-04-28T00:00:00",
          "2023-04-28T00:00:00",
          "2023-05-01T00:00:00",
          "2023-05-01T00:00:00",
          "2023-05-01T00:00:00",
          "2023-05-01T00:00:00",
          "2023-05-01T00:00:00",
          "2023-05-02T00:00:00",
          "2023-05-02T00:00:00",
          "2023-05-02T00:00:00",
          "2023-05-03T00:00:00",
          "2023-05-03T00:00:00",
          "2023-05-05T00:00:00",
          "2023-05-05T00:00:00",
          "2023-05-05T00:00:00",
          "2023-05-05T00:00:00",
          "2023-05-08T00:00:00",
          "2023-05-08T00:00:00",
          "2023-05-08T00:00:00",
          "2023-05-09T00:00:00",
          "2023-05-09T00:00:00",
          "2023-05-09T00:00:00",
          "2023-05-09T00:00:00",
          "2023-05-10T00:00:00",
          "2023-05-10T00:00:00",
          "2023-05-10T00:00:00",
          "2023-05-11T00:00:00",
          "2023-05-11T00:00:00",
          "2023-05-11T00:00:00",
          "2023-05-11T00:00:00",
          "2023-05-12T00:00:00",
          "2023-05-12T00:00:00",
          "2023-05-12T00:00:00",
          "2023-05-15T00:00:00",
          "2023-05-15T00:00:00",
          "2023-05-15T00:00:00",
          "2023-05-15T00:00:00",
          "2023-05-15T00:00:00",
          "2023-05-15T00:00:00",
          "2023-05-16T00:00:00",
          "2023-05-16T00:00:00",
          "2023-05-17T00:00:00",
          "2023-05-17T00:00:00",
          "2023-05-18T00:00:00",
          "2023-05-19T00:00:00",
          "2023-05-22T00:00:00",
          "2023-05-22T00:00:00",
          "2023-05-22T00:00:00",
          "2023-05-22T00:00:00",
          "2023-05-22T00:00:00",
          "2023-05-22T00:00:00",
          "2023-05-23T00:00:00",
          "2023-05-23T00:00:00",
          "2023-05-24T00:00:00",
          "2023-05-24T00:00:00",
          "2023-05-25T00:00:00"
         ],
         "xaxis": "x",
         "y": [
          -14.47,
          -26.88,
          -27.62,
          -12.47,
          -13.86,
          -13.31,
          -10,
          -10,
          -77,
          -38.06,
          -31.9,
          -22.37,
          -11.8,
          -67.16,
          -2.44,
          -4.47,
          -7.7,
          -9.05,
          -4.44,
          -26.71,
          -5.57,
          -30.51,
          -75.03,
          -8.28,
          -7.95,
          -12.17,
          -1.19,
          -100.39,
          -1.75,
          -3.5,
          -18.8,
          -52.99,
          -28.7,
          -4.25,
          -14.05,
          -87.98,
          -50,
          -7.95,
          -6.6,
          -22.15,
          -4.77,
          -17.15,
          -12.49,
          -42.91,
          -2.39,
          -1264.57,
          -751.95,
          -3.5,
          -7.95,
          -34,
          -40.42,
          -4.55,
          -5.18,
          -13.97,
          -117.5,
          -4.77,
          -5.3,
          -15.36,
          -8.85,
          -15.58,
          -27.05,
          -5,
          -30,
          -6.09,
          -10.49,
          -42.18,
          -3.5,
          -9.5,
          -2.96,
          -4.69,
          -4.77,
          -11.66,
          -12.61,
          -34.25,
          -5.3,
          -12.67,
          -20,
          -17.5,
          -5.31,
          -9.01,
          -9.4,
          -2.75,
          -14.61,
          -11.95,
          -19.87,
          -12.75,
          -8.78,
          -31,
          -3.99,
          -7.48,
          -1.75,
          -26.87,
          -14.52,
          -2.75,
          -34.32,
          -9.17,
          -73.22,
          -6.09,
          -3.49,
          -8.16,
          -36.5,
          -1.9,
          -3.5,
          -7.95,
          -4.25,
          -5,
          -3.5,
          -734.45,
          -4.25,
          -16.17,
          -6,
          -4.49,
          -4,
          -2,
          -13.51,
          -8.48,
          -40.34,
          -1.39,
          -1.39,
          -21.47,
          -446.68,
          -6.83,
          -14.28,
          -15.88,
          -15.89,
          -5.29,
          -3.5,
          -1.75,
          -11.77,
          -15,
          -8.16,
          -4.44,
          -4.99,
          -5.45,
          -181.96,
          -0.34,
          -11.05,
          -1.49,
          -11.6,
          -9,
          -5.08,
          -5.06,
          -8.94,
          -0.26,
          -19,
          -1.44,
          -48.13,
          -0.76,
          -25.46,
          -1.34,
          -44.92,
          -0.25,
          -8.55,
          -3.21,
          -0.27,
          -9.09,
          -0.09,
          -19.15,
          -0.57,
          -47.59,
          -1.42,
          -14,
          -6,
          -17.56,
          -22.3,
          -7.72,
          -0.23,
          -41.41,
          -12.07,
          -6.71,
          -14.48,
          -0.49,
          -16.42,
          -0.54,
          -18.01,
          -11.67,
          -0.35,
          -3.39,
          -2.11,
          -15.89,
          -3.5,
          -7.78,
          -12.91,
          -1.75,
          -7.39,
          -5.98,
          -2.5,
          -7.95,
          -41.91,
          -7.2,
          -751.95,
          -6.68,
          -4.77,
          -9.53,
          -8,
          -9.69,
          -25.78,
          -74.19,
          -10.99,
          -22.9,
          -8.99,
          -4.78,
          -5.49,
          -9.5,
          -5.57,
          -2.75,
          -17,
          -3.5,
          -28.25,
          -2.22,
          -5.88,
          -3.5,
          -6.6,
          -10.8,
          -10.07,
          -2.75,
          -5.3,
          -14.83,
          -31.27,
          -64.45,
          -4.75,
          -6,
          -4.77,
          -5.95,
          -1.75,
          -19.18,
          -10.16,
          -2.11,
          -5.48,
          -22.95,
          -4.77,
          -9.48,
          -10.55,
          -2,
          -4,
          -102.38,
          -3.45,
          -3.5,
          -24.04,
          -1.75,
          -4.12,
          -17.4,
          -5.83,
          -3.25,
          -3.5,
          -13,
          -7.95,
          -2.29,
          -7.67,
          -14.08,
          -15.87,
          -3.5,
          -8.99,
          -6.6,
          -6.09,
          -61.49,
          -17,
          -751.95,
          -2.29,
          -6,
          -7.98,
          -7.95,
          -30.16,
          -14.51,
          -6,
          -12.93,
          -12.56,
          -9.08,
          -5.5,
          -37.25,
          -10.89,
          -8.21,
          -3.59,
          -51.54,
          -18.3,
          -7.98,
          -4,
          -9.64,
          -4.69,
          -4.4,
          -10.68,
          -8.48,
          -35.5,
          -4.23,
          -73.02,
          -9.1,
          -7.97,
          -7,
          -3,
          -7.5,
          -14.34,
          -6,
          -20.25,
          -11,
          -2.89,
          -21.19,
          -5.57,
          -7.67,
          -29.95,
          -15,
          -8.66,
          -80,
          -16.39,
          -2.11,
          -2.36,
          -7.69,
          -15.93,
          -6.5,
          -6.36,
          -6.87,
          -5.04,
          -11.9,
          -49.29,
          -2.25,
          -2.1,
          -19.57,
          -6.33,
          -14.86,
          -5.57,
          -751.95,
          -5,
          -150,
          -51.07
         ],
         "yaxis": "y"
        },
        {
         "alignmentgroup": "True",
         "customdata": [
          [
           "ONLINE TRANSFER FROM GLATZER G WAY2SAVE SAVINGS XXXXXX2121 REF #IB0HCNG438 ON 01/04/23"
          ],
          [
           "ONLINE TRANSFER FROM GLATZER G WAY2SAVE SAVINGS XXXXXX2121 REF #IB0HDSVSH4 ON 01/09/23"
          ],
          [
           "ONLINE TRANSFER FROM GLATZER G WAY2SAVE SAVINGS XXXXXX2121 REF #IB0HF2XFBM ON 01/10/23"
          ],
          [
           "ONLINE TRANSFER FROM GLATZER G WAY2SAVE SAVINGS XXXXXX2121 REF #IB0HG6MZJX ON 01/14/23"
          ],
          [
           "VENMO CASHOUT 230117 1024746963753 GREGORY GLATZER"
          ],
          [
           "ONLINE TRANSFER FROM GLATZER G WAY2SAVE SAVINGS XXXXXX2121 REF #IB0HH83LJT ON 01/19/23"
          ],
          [
           "ONLINE TRANSFER FROM GLATZER G REF #IB0HHPHR25 WAY2SAVE SAVINGS FOR MUNICH FLIGHT"
          ],
          [
           "ONLINE TRANSFER FROM GLATZER G WAY2SAVE SAVINGS XXXXXX2121 REF #IB0HHPRTHS ON 01/20/23"
          ],
          [
           "ONLINE TRANSFER FROM GLATZER G WAY2SAVE SAVINGS XXXXXX2121 REF #IB0HJ6G4DQ ON 01/23/23"
          ],
          [
           "ONLINE TRANSFER FROM GLATZER G WAY2SAVE SAVINGS XXXXXX2121 REF #IB0HKBPKGH ON 01/27/23"
          ],
          [
           "ONLINE TRANSFER FROM GLATZER G WAY2SAVE SAVINGS XXXXXX2121 REF #IB0HL8LC8Y ON 01/31/23"
          ],
          [
           "ONLINE TRANSFER FROM GLATZER G WAY2SAVE SAVINGS XXXXXX2121 REF #IB0HP4B842 ON 02/10/23"
          ],
          [
           "VENMO CASHOUT 230214 1025282408344 GREGORY GLATZER"
          ],
          [
           "ONLINE TRANSFER FROM GLATZER G WAY2SAVE SAVINGS XXXXXX2121 REF #IB0HPX4VM6 ON 02/14/23"
          ],
          [
           "ONLINE TRANSFER FROM GLATZER G WAY2SAVE SAVINGS XXXXXX2121 REF #IB0HRQKPZJ ON 02/21/23"
          ],
          [
           "ONLINE TRANSFER FROM GLATZER G WAY2SAVE SAVINGS XXXXXX2121 REF #IB0HTKRS2R ON 02/28/23"
          ],
          [
           "VENMO CASHOUT 230301 1025554247040 GREGORY GLATZER"
          ],
          [
           "ONLINE TRANSFER FROM GLATZER G WAY2SAVE SAVINGS XXXXXX2121 REF #IB0HWDZVSP ON 03/06/23"
          ],
          [
           "VENMO CASHOUT 230308 1025709092680 GREGORY GLATZER"
          ],
          [
           "ONLINE TRANSFER FROM GLATZER G WAY2SAVE SAVINGS XXXXXX2121 REF #IB0HXGVRMD ON 03/10/23"
          ],
          [
           "ONLINE TRANSFER FROM GLATZER G WAY2SAVE SAVINGS XXXXXX2121 REF #IB0HYSRFW6 ON 03/15/23"
          ],
          [
           "ONLINE TRANSFER FROM GLATZER G WAY2SAVE SAVINGS XXXXXX2121 REF #IB0HZW62TS ON 03/19/23"
          ],
          [
           "IRS TREAS 310 TAX REF 032223 XXXXXXXXXX00908 GLATZER, GREGORY J"
          ],
          [
           "ONLINE TRANSFER FROM GLATZER G WAY2SAVE SAVINGS XXXXXX2121 REF #IB0J3KH9ZV ON 03/26/23"
          ],
          [
           "ONLINE TRANSFER FROM GLATZER G WAY2SAVE SAVINGS XXXXXX2121 REF #IB0J6PGQY7 ON 04/06/23"
          ],
          [
           "ONLINE TRANSFER FROM GLATZER G WAY2SAVE SAVINGS XXXXXX2121 REF #IB0J8RV3T9 ON 04/14/23"
          ],
          [
           "ONLINE TRANSFER FROM GLATZER G WAY2SAVE SAVINGS XXXXXX2121 REF #IB0J9CLGDK ON 04/16/23"
          ],
          [
           "ONLINE TRANSFER FROM GLATZER G WAY2SAVE SAVINGS XXXXXX2121 REF #IB0JBGDTSQ ON 04/20/23"
          ],
          [
           "ONLINE TRANSFER FROM GLATZER G WAY2SAVE SAVINGS XXXXXX2121 REF #IB0JBT32QG ON 04/21/23"
          ],
          [
           "VENMO CASHOUT 230423 1026591338374 GREGORY GLATZER"
          ],
          [
           "ONLINE TRANSFER FROM GLATZER G WAY2SAVE SAVINGS XXXXXX2121 REF #IB0JH96MF9 ON 05/07/23"
          ],
          [
           "ONLINE TRANSFER FROM GLATZER G WAY2SAVE SAVINGS XXXXXX2121 REF #IB0JJJTZ44 ON 05/12/23"
          ],
          [
           "VENMO CASHOUT 230516 1027041250688 GREGORY GLATZER"
          ],
          [
           "ONLINE TRANSFER FROM GLATZER G WAY2SAVE SAVINGS XXXXXX2121 REF #IB0JLTN73L ON 05/20/23"
          ],
          [
           "VENMO CASHOUT 230524 1027206009798 GREGORY GLATZER"
          ],
          [
           "ONLINE TRANSFER FROM GLATZER G WAY2SAVE SAVINGS XXXXXX2121 REF #IB0JMRLMWS ON 05/24/23"
          ]
         ],
         "hovertemplate": "Date: %{x}<br>Amount: %{y}<br>Description: %{customdata[0]}",
         "legendgroup": "green",
         "marker": {
          "color": "green",
          "pattern": {
           "shape": ""
          }
         },
         "name": "green",
         "offsetgroup": "green",
         "orientation": "v",
         "showlegend": true,
         "textposition": "auto",
         "type": "bar",
         "x": [
          "2023-01-04T00:00:00",
          "2023-01-09T00:00:00",
          "2023-01-10T00:00:00",
          "2023-01-17T00:00:00",
          "2023-01-17T00:00:00",
          "2023-01-19T00:00:00",
          "2023-01-20T00:00:00",
          "2023-01-20T00:00:00",
          "2023-01-23T00:00:00",
          "2023-01-27T00:00:00",
          "2023-01-31T00:00:00",
          "2023-02-10T00:00:00",
          "2023-02-14T00:00:00",
          "2023-02-14T00:00:00",
          "2023-02-21T00:00:00",
          "2023-02-28T00:00:00",
          "2023-03-01T00:00:00",
          "2023-03-06T00:00:00",
          "2023-03-08T00:00:00",
          "2023-03-10T00:00:00",
          "2023-03-15T00:00:00",
          "2023-03-20T00:00:00",
          "2023-03-22T00:00:00",
          "2023-03-27T00:00:00",
          "2023-04-06T00:00:00",
          "2023-04-14T00:00:00",
          "2023-04-17T00:00:00",
          "2023-04-20T00:00:00",
          "2023-04-21T00:00:00",
          "2023-04-24T00:00:00",
          "2023-05-08T00:00:00",
          "2023-05-12T00:00:00",
          "2023-05-16T00:00:00",
          "2023-05-22T00:00:00",
          "2023-05-24T00:00:00",
          "2023-05-24T00:00:00"
         ],
         "xaxis": "x",
         "y": [
          200,
          200,
          200,
          300,
          97.32,
          800,
          800,
          400,
          200,
          100,
          200,
          200,
          234.09,
          300,
          600,
          400,
          226.34,
          300,
          57.86,
          100,
          200,
          800,
          67,
          100,
          200,
          100,
          100,
          800,
          100,
          381.25,
          200,
          200,
          91.5,
          800,
          58,
          200
         ],
         "yaxis": "y"
        }
       ],
       "layout": {
        "barmode": "relative",
        "legend": {
         "title": {
          "text": "Color"
         },
         "tracegroupgap": 0
        },
        "showlegend": false,
        "template": {
         "data": {
          "bar": [
           {
            "error_x": {
             "color": "#2a3f5f"
            },
            "error_y": {
             "color": "#2a3f5f"
            },
            "marker": {
             "line": {
              "color": "#E5ECF6",
              "width": 0.5
             },
             "pattern": {
              "fillmode": "overlay",
              "size": 10,
              "solidity": 0.2
             }
            },
            "type": "bar"
           }
          ],
          "barpolar": [
           {
            "marker": {
             "line": {
              "color": "#E5ECF6",
              "width": 0.5
             },
             "pattern": {
              "fillmode": "overlay",
              "size": 10,
              "solidity": 0.2
             }
            },
            "type": "barpolar"
           }
          ],
          "carpet": [
           {
            "aaxis": {
             "endlinecolor": "#2a3f5f",
             "gridcolor": "white",
             "linecolor": "white",
             "minorgridcolor": "white",
             "startlinecolor": "#2a3f5f"
            },
            "baxis": {
             "endlinecolor": "#2a3f5f",
             "gridcolor": "white",
             "linecolor": "white",
             "minorgridcolor": "white",
             "startlinecolor": "#2a3f5f"
            },
            "type": "carpet"
           }
          ],
          "choropleth": [
           {
            "colorbar": {
             "outlinewidth": 0,
             "ticks": ""
            },
            "type": "choropleth"
           }
          ],
          "contour": [
           {
            "colorbar": {
             "outlinewidth": 0,
             "ticks": ""
            },
            "colorscale": [
             [
              0,
              "#0d0887"
             ],
             [
              0.1111111111111111,
              "#46039f"
             ],
             [
              0.2222222222222222,
              "#7201a8"
             ],
             [
              0.3333333333333333,
              "#9c179e"
             ],
             [
              0.4444444444444444,
              "#bd3786"
             ],
             [
              0.5555555555555556,
              "#d8576b"
             ],
             [
              0.6666666666666666,
              "#ed7953"
             ],
             [
              0.7777777777777778,
              "#fb9f3a"
             ],
             [
              0.8888888888888888,
              "#fdca26"
             ],
             [
              1,
              "#f0f921"
             ]
            ],
            "type": "contour"
           }
          ],
          "contourcarpet": [
           {
            "colorbar": {
             "outlinewidth": 0,
             "ticks": ""
            },
            "type": "contourcarpet"
           }
          ],
          "heatmap": [
           {
            "colorbar": {
             "outlinewidth": 0,
             "ticks": ""
            },
            "colorscale": [
             [
              0,
              "#0d0887"
             ],
             [
              0.1111111111111111,
              "#46039f"
             ],
             [
              0.2222222222222222,
              "#7201a8"
             ],
             [
              0.3333333333333333,
              "#9c179e"
             ],
             [
              0.4444444444444444,
              "#bd3786"
             ],
             [
              0.5555555555555556,
              "#d8576b"
             ],
             [
              0.6666666666666666,
              "#ed7953"
             ],
             [
              0.7777777777777778,
              "#fb9f3a"
             ],
             [
              0.8888888888888888,
              "#fdca26"
             ],
             [
              1,
              "#f0f921"
             ]
            ],
            "type": "heatmap"
           }
          ],
          "heatmapgl": [
           {
            "colorbar": {
             "outlinewidth": 0,
             "ticks": ""
            },
            "colorscale": [
             [
              0,
              "#0d0887"
             ],
             [
              0.1111111111111111,
              "#46039f"
             ],
             [
              0.2222222222222222,
              "#7201a8"
             ],
             [
              0.3333333333333333,
              "#9c179e"
             ],
             [
              0.4444444444444444,
              "#bd3786"
             ],
             [
              0.5555555555555556,
              "#d8576b"
             ],
             [
              0.6666666666666666,
              "#ed7953"
             ],
             [
              0.7777777777777778,
              "#fb9f3a"
             ],
             [
              0.8888888888888888,
              "#fdca26"
             ],
             [
              1,
              "#f0f921"
             ]
            ],
            "type": "heatmapgl"
           }
          ],
          "histogram": [
           {
            "marker": {
             "pattern": {
              "fillmode": "overlay",
              "size": 10,
              "solidity": 0.2
             }
            },
            "type": "histogram"
           }
          ],
          "histogram2d": [
           {
            "colorbar": {
             "outlinewidth": 0,
             "ticks": ""
            },
            "colorscale": [
             [
              0,
              "#0d0887"
             ],
             [
              0.1111111111111111,
              "#46039f"
             ],
             [
              0.2222222222222222,
              "#7201a8"
             ],
             [
              0.3333333333333333,
              "#9c179e"
             ],
             [
              0.4444444444444444,
              "#bd3786"
             ],
             [
              0.5555555555555556,
              "#d8576b"
             ],
             [
              0.6666666666666666,
              "#ed7953"
             ],
             [
              0.7777777777777778,
              "#fb9f3a"
             ],
             [
              0.8888888888888888,
              "#fdca26"
             ],
             [
              1,
              "#f0f921"
             ]
            ],
            "type": "histogram2d"
           }
          ],
          "histogram2dcontour": [
           {
            "colorbar": {
             "outlinewidth": 0,
             "ticks": ""
            },
            "colorscale": [
             [
              0,
              "#0d0887"
             ],
             [
              0.1111111111111111,
              "#46039f"
             ],
             [
              0.2222222222222222,
              "#7201a8"
             ],
             [
              0.3333333333333333,
              "#9c179e"
             ],
             [
              0.4444444444444444,
              "#bd3786"
             ],
             [
              0.5555555555555556,
              "#d8576b"
             ],
             [
              0.6666666666666666,
              "#ed7953"
             ],
             [
              0.7777777777777778,
              "#fb9f3a"
             ],
             [
              0.8888888888888888,
              "#fdca26"
             ],
             [
              1,
              "#f0f921"
             ]
            ],
            "type": "histogram2dcontour"
           }
          ],
          "mesh3d": [
           {
            "colorbar": {
             "outlinewidth": 0,
             "ticks": ""
            },
            "type": "mesh3d"
           }
          ],
          "parcoords": [
           {
            "line": {
             "colorbar": {
              "outlinewidth": 0,
              "ticks": ""
             }
            },
            "type": "parcoords"
           }
          ],
          "pie": [
           {
            "automargin": true,
            "type": "pie"
           }
          ],
          "scatter": [
           {
            "fillpattern": {
             "fillmode": "overlay",
             "size": 10,
             "solidity": 0.2
            },
            "type": "scatter"
           }
          ],
          "scatter3d": [
           {
            "line": {
             "colorbar": {
              "outlinewidth": 0,
              "ticks": ""
             }
            },
            "marker": {
             "colorbar": {
              "outlinewidth": 0,
              "ticks": ""
             }
            },
            "type": "scatter3d"
           }
          ],
          "scattercarpet": [
           {
            "marker": {
             "colorbar": {
              "outlinewidth": 0,
              "ticks": ""
             }
            },
            "type": "scattercarpet"
           }
          ],
          "scattergeo": [
           {
            "marker": {
             "colorbar": {
              "outlinewidth": 0,
              "ticks": ""
             }
            },
            "type": "scattergeo"
           }
          ],
          "scattergl": [
           {
            "marker": {
             "colorbar": {
              "outlinewidth": 0,
              "ticks": ""
             }
            },
            "type": "scattergl"
           }
          ],
          "scattermapbox": [
           {
            "marker": {
             "colorbar": {
              "outlinewidth": 0,
              "ticks": ""
             }
            },
            "type": "scattermapbox"
           }
          ],
          "scatterpolar": [
           {
            "marker": {
             "colorbar": {
              "outlinewidth": 0,
              "ticks": ""
             }
            },
            "type": "scatterpolar"
           }
          ],
          "scatterpolargl": [
           {
            "marker": {
             "colorbar": {
              "outlinewidth": 0,
              "ticks": ""
             }
            },
            "type": "scatterpolargl"
           }
          ],
          "scatterternary": [
           {
            "marker": {
             "colorbar": {
              "outlinewidth": 0,
              "ticks": ""
             }
            },
            "type": "scatterternary"
           }
          ],
          "surface": [
           {
            "colorbar": {
             "outlinewidth": 0,
             "ticks": ""
            },
            "colorscale": [
             [
              0,
              "#0d0887"
             ],
             [
              0.1111111111111111,
              "#46039f"
             ],
             [
              0.2222222222222222,
              "#7201a8"
             ],
             [
              0.3333333333333333,
              "#9c179e"
             ],
             [
              0.4444444444444444,
              "#bd3786"
             ],
             [
              0.5555555555555556,
              "#d8576b"
             ],
             [
              0.6666666666666666,
              "#ed7953"
             ],
             [
              0.7777777777777778,
              "#fb9f3a"
             ],
             [
              0.8888888888888888,
              "#fdca26"
             ],
             [
              1,
              "#f0f921"
             ]
            ],
            "type": "surface"
           }
          ],
          "table": [
           {
            "cells": {
             "fill": {
              "color": "#EBF0F8"
             },
             "line": {
              "color": "white"
             }
            },
            "header": {
             "fill": {
              "color": "#C8D4E3"
             },
             "line": {
              "color": "white"
             }
            },
            "type": "table"
           }
          ]
         },
         "layout": {
          "annotationdefaults": {
           "arrowcolor": "#2a3f5f",
           "arrowhead": 0,
           "arrowwidth": 1
          },
          "autotypenumbers": "strict",
          "coloraxis": {
           "colorbar": {
            "outlinewidth": 0,
            "ticks": ""
           }
          },
          "colorscale": {
           "diverging": [
            [
             0,
             "#8e0152"
            ],
            [
             0.1,
             "#c51b7d"
            ],
            [
             0.2,
             "#de77ae"
            ],
            [
             0.3,
             "#f1b6da"
            ],
            [
             0.4,
             "#fde0ef"
            ],
            [
             0.5,
             "#f7f7f7"
            ],
            [
             0.6,
             "#e6f5d0"
            ],
            [
             0.7,
             "#b8e186"
            ],
            [
             0.8,
             "#7fbc41"
            ],
            [
             0.9,
             "#4d9221"
            ],
            [
             1,
             "#276419"
            ]
           ],
           "sequential": [
            [
             0,
             "#0d0887"
            ],
            [
             0.1111111111111111,
             "#46039f"
            ],
            [
             0.2222222222222222,
             "#7201a8"
            ],
            [
             0.3333333333333333,
             "#9c179e"
            ],
            [
             0.4444444444444444,
             "#bd3786"
            ],
            [
             0.5555555555555556,
             "#d8576b"
            ],
            [
             0.6666666666666666,
             "#ed7953"
            ],
            [
             0.7777777777777778,
             "#fb9f3a"
            ],
            [
             0.8888888888888888,
             "#fdca26"
            ],
            [
             1,
             "#f0f921"
            ]
           ],
           "sequentialminus": [
            [
             0,
             "#0d0887"
            ],
            [
             0.1111111111111111,
             "#46039f"
            ],
            [
             0.2222222222222222,
             "#7201a8"
            ],
            [
             0.3333333333333333,
             "#9c179e"
            ],
            [
             0.4444444444444444,
             "#bd3786"
            ],
            [
             0.5555555555555556,
             "#d8576b"
            ],
            [
             0.6666666666666666,
             "#ed7953"
            ],
            [
             0.7777777777777778,
             "#fb9f3a"
            ],
            [
             0.8888888888888888,
             "#fdca26"
            ],
            [
             1,
             "#f0f921"
            ]
           ]
          },
          "colorway": [
           "#636efa",
           "#EF553B",
           "#00cc96",
           "#ab63fa",
           "#FFA15A",
           "#19d3f3",
           "#FF6692",
           "#B6E880",
           "#FF97FF",
           "#FECB52"
          ],
          "font": {
           "color": "#2a3f5f"
          },
          "geo": {
           "bgcolor": "white",
           "lakecolor": "white",
           "landcolor": "#E5ECF6",
           "showlakes": true,
           "showland": true,
           "subunitcolor": "white"
          },
          "hoverlabel": {
           "align": "left"
          },
          "hovermode": "closest",
          "mapbox": {
           "style": "light"
          },
          "paper_bgcolor": "white",
          "plot_bgcolor": "#E5ECF6",
          "polar": {
           "angularaxis": {
            "gridcolor": "white",
            "linecolor": "white",
            "ticks": ""
           },
           "bgcolor": "#E5ECF6",
           "radialaxis": {
            "gridcolor": "white",
            "linecolor": "white",
            "ticks": ""
           }
          },
          "scene": {
           "xaxis": {
            "backgroundcolor": "#E5ECF6",
            "gridcolor": "white",
            "gridwidth": 2,
            "linecolor": "white",
            "showbackground": true,
            "ticks": "",
            "zerolinecolor": "white"
           },
           "yaxis": {
            "backgroundcolor": "#E5ECF6",
            "gridcolor": "white",
            "gridwidth": 2,
            "linecolor": "white",
            "showbackground": true,
            "ticks": "",
            "zerolinecolor": "white"
           },
           "zaxis": {
            "backgroundcolor": "#E5ECF6",
            "gridcolor": "white",
            "gridwidth": 2,
            "linecolor": "white",
            "showbackground": true,
            "ticks": "",
            "zerolinecolor": "white"
           }
          },
          "shapedefaults": {
           "line": {
            "color": "#2a3f5f"
           }
          },
          "ternary": {
           "aaxis": {
            "gridcolor": "white",
            "linecolor": "white",
            "ticks": ""
           },
           "baxis": {
            "gridcolor": "white",
            "linecolor": "white",
            "ticks": ""
           },
           "bgcolor": "#E5ECF6",
           "caxis": {
            "gridcolor": "white",
            "linecolor": "white",
            "ticks": ""
           }
          },
          "title": {
           "x": 0.05
          },
          "xaxis": {
           "automargin": true,
           "gridcolor": "white",
           "linecolor": "white",
           "ticks": "",
           "title": {
            "standoff": 15
           },
           "zerolinecolor": "white",
           "zerolinewidth": 2
          },
          "yaxis": {
           "automargin": true,
           "gridcolor": "white",
           "linecolor": "white",
           "ticks": "",
           "title": {
            "standoff": 15
           },
           "zerolinecolor": "white",
           "zerolinewidth": 2
          }
         }
        },
        "title": {
         "text": "Transactions Over Time"
        },
        "xaxis": {
         "anchor": "y",
         "domain": [
          0,
          1
         ],
         "title": {
          "text": "Date"
         }
        },
        "yaxis": {
         "anchor": "x",
         "domain": [
          0,
          1
         ],
         "title": {
          "text": "Amount"
         }
        }
       }
      }
     },
     "metadata": {},
     "output_type": "display_data"
    }
   ],
   "source": [
    "import plotly.express as px\n",
    "\n",
    "def transactions_over_time(df):\n",
    "    \"\"\"Call this function to plot the transactions over time.\"\"\"\n",
    "\n",
    "    # clean the description column\n",
    "    to_plot = clean_description(df)\n",
    "\n",
    "    # Assign colors based on transaction values\n",
    "    to_plot['Color'] = to_plot['Amount'].apply(lambda x: 'green' if x >= 0 else 'red')\n",
    "\n",
    "    fig = px.bar(to_plot, x=\"Date\", y=\"Amount\", color=\"Color\", title=\"Transactions Over Time\", hover_data=[\"Description\"], color_discrete_map={'green': 'green', 'red': 'red'})\n",
    "\n",
    "    # make hover only show the description\n",
    "    fig.update_traces(hovertemplate=\"<br>\".join([\n",
    "        \"Date: %{x}\",\n",
    "        \"Amount: %{y}\",\n",
    "        \"Description: %{customdata[0]}\"\n",
    "    ]))\n",
    "\n",
    "    # remove the legend\n",
    "    fig.update_layout(showlegend=False)\n",
    "\n",
    "\n",
    "    return fig\n",
    "\n",
    "transactions_over_time(df).show()"
   ]
  },
  {
   "cell_type": "code",
   "execution_count": 101,
   "metadata": {},
   "outputs": [
    {
     "data": {
      "application/vnd.plotly.v1+json": {
       "config": {
        "plotlyServerURL": "https://plot.ly"
       },
       "data": [
        {
         "domain": {
          "x": [
           0,
           1
          ],
          "y": [
           0,
           1
          ]
         },
         "hovertemplate": "index=%{label}<br>Description=%{value}<extra></extra>",
         "labels": [
          "ONLINE TRANSFER FROM GLATZER G WAY2SAVE SAVINGS XXXXXX2121 REF #IB0HCNG438 ON 01/04/23",
          "ONLINE TRANSFER FROM GLATZER G WAY2SAVE SAVINGS XXXXXX2121 REF #IB0HDSVSH4 ON 01/09/23",
          "ONLINE TRANSFER FROM GLATZER G WAY2SAVE SAVINGS XXXXXX2121 REF #IB0HYSRFW6 ON 03/15/23",
          "ONLINE TRANSFER FROM GLATZER G WAY2SAVE SAVINGS XXXXXX2121 REF #IB0HZW62TS ON 03/19/23",
          "IRS TREAS 310 TAX REF 032223 XXXXXXXXXX00908 GLATZER, GREGORY J",
          "ONLINE TRANSFER FROM GLATZER G WAY2SAVE SAVINGS XXXXXX2121 REF #IB0J3KH9ZV ON 03/26/23",
          "ONLINE TRANSFER FROM GLATZER G WAY2SAVE SAVINGS XXXXXX2121 REF #IB0J6PGQY7 ON 04/06/23",
          "ONLINE TRANSFER FROM GLATZER G WAY2SAVE SAVINGS XXXXXX2121 REF #IB0J8RV3T9 ON 04/14/23",
          "ONLINE TRANSFER FROM GLATZER G WAY2SAVE SAVINGS XXXXXX2121 REF #IB0J9CLGDK ON 04/16/23",
          "ONLINE TRANSFER FROM GLATZER G WAY2SAVE SAVINGS XXXXXX2121 REF #IB0JBGDTSQ ON 04/20/23"
         ],
         "legendgroup": "",
         "name": "",
         "showlegend": true,
         "type": "pie",
         "values": [
          1,
          1,
          1,
          1,
          1,
          1,
          1,
          1,
          1,
          1
         ]
        }
       ],
       "layout": {
        "legend": {
         "tracegroupgap": 0
        },
        "showlegend": false,
        "template": {
         "data": {
          "bar": [
           {
            "error_x": {
             "color": "#2a3f5f"
            },
            "error_y": {
             "color": "#2a3f5f"
            },
            "marker": {
             "line": {
              "color": "#E5ECF6",
              "width": 0.5
             },
             "pattern": {
              "fillmode": "overlay",
              "size": 10,
              "solidity": 0.2
             }
            },
            "type": "bar"
           }
          ],
          "barpolar": [
           {
            "marker": {
             "line": {
              "color": "#E5ECF6",
              "width": 0.5
             },
             "pattern": {
              "fillmode": "overlay",
              "size": 10,
              "solidity": 0.2
             }
            },
            "type": "barpolar"
           }
          ],
          "carpet": [
           {
            "aaxis": {
             "endlinecolor": "#2a3f5f",
             "gridcolor": "white",
             "linecolor": "white",
             "minorgridcolor": "white",
             "startlinecolor": "#2a3f5f"
            },
            "baxis": {
             "endlinecolor": "#2a3f5f",
             "gridcolor": "white",
             "linecolor": "white",
             "minorgridcolor": "white",
             "startlinecolor": "#2a3f5f"
            },
            "type": "carpet"
           }
          ],
          "choropleth": [
           {
            "colorbar": {
             "outlinewidth": 0,
             "ticks": ""
            },
            "type": "choropleth"
           }
          ],
          "contour": [
           {
            "colorbar": {
             "outlinewidth": 0,
             "ticks": ""
            },
            "colorscale": [
             [
              0,
              "#0d0887"
             ],
             [
              0.1111111111111111,
              "#46039f"
             ],
             [
              0.2222222222222222,
              "#7201a8"
             ],
             [
              0.3333333333333333,
              "#9c179e"
             ],
             [
              0.4444444444444444,
              "#bd3786"
             ],
             [
              0.5555555555555556,
              "#d8576b"
             ],
             [
              0.6666666666666666,
              "#ed7953"
             ],
             [
              0.7777777777777778,
              "#fb9f3a"
             ],
             [
              0.8888888888888888,
              "#fdca26"
             ],
             [
              1,
              "#f0f921"
             ]
            ],
            "type": "contour"
           }
          ],
          "contourcarpet": [
           {
            "colorbar": {
             "outlinewidth": 0,
             "ticks": ""
            },
            "type": "contourcarpet"
           }
          ],
          "heatmap": [
           {
            "colorbar": {
             "outlinewidth": 0,
             "ticks": ""
            },
            "colorscale": [
             [
              0,
              "#0d0887"
             ],
             [
              0.1111111111111111,
              "#46039f"
             ],
             [
              0.2222222222222222,
              "#7201a8"
             ],
             [
              0.3333333333333333,
              "#9c179e"
             ],
             [
              0.4444444444444444,
              "#bd3786"
             ],
             [
              0.5555555555555556,
              "#d8576b"
             ],
             [
              0.6666666666666666,
              "#ed7953"
             ],
             [
              0.7777777777777778,
              "#fb9f3a"
             ],
             [
              0.8888888888888888,
              "#fdca26"
             ],
             [
              1,
              "#f0f921"
             ]
            ],
            "type": "heatmap"
           }
          ],
          "heatmapgl": [
           {
            "colorbar": {
             "outlinewidth": 0,
             "ticks": ""
            },
            "colorscale": [
             [
              0,
              "#0d0887"
             ],
             [
              0.1111111111111111,
              "#46039f"
             ],
             [
              0.2222222222222222,
              "#7201a8"
             ],
             [
              0.3333333333333333,
              "#9c179e"
             ],
             [
              0.4444444444444444,
              "#bd3786"
             ],
             [
              0.5555555555555556,
              "#d8576b"
             ],
             [
              0.6666666666666666,
              "#ed7953"
             ],
             [
              0.7777777777777778,
              "#fb9f3a"
             ],
             [
              0.8888888888888888,
              "#fdca26"
             ],
             [
              1,
              "#f0f921"
             ]
            ],
            "type": "heatmapgl"
           }
          ],
          "histogram": [
           {
            "marker": {
             "pattern": {
              "fillmode": "overlay",
              "size": 10,
              "solidity": 0.2
             }
            },
            "type": "histogram"
           }
          ],
          "histogram2d": [
           {
            "colorbar": {
             "outlinewidth": 0,
             "ticks": ""
            },
            "colorscale": [
             [
              0,
              "#0d0887"
             ],
             [
              0.1111111111111111,
              "#46039f"
             ],
             [
              0.2222222222222222,
              "#7201a8"
             ],
             [
              0.3333333333333333,
              "#9c179e"
             ],
             [
              0.4444444444444444,
              "#bd3786"
             ],
             [
              0.5555555555555556,
              "#d8576b"
             ],
             [
              0.6666666666666666,
              "#ed7953"
             ],
             [
              0.7777777777777778,
              "#fb9f3a"
             ],
             [
              0.8888888888888888,
              "#fdca26"
             ],
             [
              1,
              "#f0f921"
             ]
            ],
            "type": "histogram2d"
           }
          ],
          "histogram2dcontour": [
           {
            "colorbar": {
             "outlinewidth": 0,
             "ticks": ""
            },
            "colorscale": [
             [
              0,
              "#0d0887"
             ],
             [
              0.1111111111111111,
              "#46039f"
             ],
             [
              0.2222222222222222,
              "#7201a8"
             ],
             [
              0.3333333333333333,
              "#9c179e"
             ],
             [
              0.4444444444444444,
              "#bd3786"
             ],
             [
              0.5555555555555556,
              "#d8576b"
             ],
             [
              0.6666666666666666,
              "#ed7953"
             ],
             [
              0.7777777777777778,
              "#fb9f3a"
             ],
             [
              0.8888888888888888,
              "#fdca26"
             ],
             [
              1,
              "#f0f921"
             ]
            ],
            "type": "histogram2dcontour"
           }
          ],
          "mesh3d": [
           {
            "colorbar": {
             "outlinewidth": 0,
             "ticks": ""
            },
            "type": "mesh3d"
           }
          ],
          "parcoords": [
           {
            "line": {
             "colorbar": {
              "outlinewidth": 0,
              "ticks": ""
             }
            },
            "type": "parcoords"
           }
          ],
          "pie": [
           {
            "automargin": true,
            "type": "pie"
           }
          ],
          "scatter": [
           {
            "fillpattern": {
             "fillmode": "overlay",
             "size": 10,
             "solidity": 0.2
            },
            "type": "scatter"
           }
          ],
          "scatter3d": [
           {
            "line": {
             "colorbar": {
              "outlinewidth": 0,
              "ticks": ""
             }
            },
            "marker": {
             "colorbar": {
              "outlinewidth": 0,
              "ticks": ""
             }
            },
            "type": "scatter3d"
           }
          ],
          "scattercarpet": [
           {
            "marker": {
             "colorbar": {
              "outlinewidth": 0,
              "ticks": ""
             }
            },
            "type": "scattercarpet"
           }
          ],
          "scattergeo": [
           {
            "marker": {
             "colorbar": {
              "outlinewidth": 0,
              "ticks": ""
             }
            },
            "type": "scattergeo"
           }
          ],
          "scattergl": [
           {
            "marker": {
             "colorbar": {
              "outlinewidth": 0,
              "ticks": ""
             }
            },
            "type": "scattergl"
           }
          ],
          "scattermapbox": [
           {
            "marker": {
             "colorbar": {
              "outlinewidth": 0,
              "ticks": ""
             }
            },
            "type": "scattermapbox"
           }
          ],
          "scatterpolar": [
           {
            "marker": {
             "colorbar": {
              "outlinewidth": 0,
              "ticks": ""
             }
            },
            "type": "scatterpolar"
           }
          ],
          "scatterpolargl": [
           {
            "marker": {
             "colorbar": {
              "outlinewidth": 0,
              "ticks": ""
             }
            },
            "type": "scatterpolargl"
           }
          ],
          "scatterternary": [
           {
            "marker": {
             "colorbar": {
              "outlinewidth": 0,
              "ticks": ""
             }
            },
            "type": "scatterternary"
           }
          ],
          "surface": [
           {
            "colorbar": {
             "outlinewidth": 0,
             "ticks": ""
            },
            "colorscale": [
             [
              0,
              "#0d0887"
             ],
             [
              0.1111111111111111,
              "#46039f"
             ],
             [
              0.2222222222222222,
              "#7201a8"
             ],
             [
              0.3333333333333333,
              "#9c179e"
             ],
             [
              0.4444444444444444,
              "#bd3786"
             ],
             [
              0.5555555555555556,
              "#d8576b"
             ],
             [
              0.6666666666666666,
              "#ed7953"
             ],
             [
              0.7777777777777778,
              "#fb9f3a"
             ],
             [
              0.8888888888888888,
              "#fdca26"
             ],
             [
              1,
              "#f0f921"
             ]
            ],
            "type": "surface"
           }
          ],
          "table": [
           {
            "cells": {
             "fill": {
              "color": "#EBF0F8"
             },
             "line": {
              "color": "white"
             }
            },
            "header": {
             "fill": {
              "color": "#C8D4E3"
             },
             "line": {
              "color": "white"
             }
            },
            "type": "table"
           }
          ]
         },
         "layout": {
          "annotationdefaults": {
           "arrowcolor": "#2a3f5f",
           "arrowhead": 0,
           "arrowwidth": 1
          },
          "autotypenumbers": "strict",
          "coloraxis": {
           "colorbar": {
            "outlinewidth": 0,
            "ticks": ""
           }
          },
          "colorscale": {
           "diverging": [
            [
             0,
             "#8e0152"
            ],
            [
             0.1,
             "#c51b7d"
            ],
            [
             0.2,
             "#de77ae"
            ],
            [
             0.3,
             "#f1b6da"
            ],
            [
             0.4,
             "#fde0ef"
            ],
            [
             0.5,
             "#f7f7f7"
            ],
            [
             0.6,
             "#e6f5d0"
            ],
            [
             0.7,
             "#b8e186"
            ],
            [
             0.8,
             "#7fbc41"
            ],
            [
             0.9,
             "#4d9221"
            ],
            [
             1,
             "#276419"
            ]
           ],
           "sequential": [
            [
             0,
             "#0d0887"
            ],
            [
             0.1111111111111111,
             "#46039f"
            ],
            [
             0.2222222222222222,
             "#7201a8"
            ],
            [
             0.3333333333333333,
             "#9c179e"
            ],
            [
             0.4444444444444444,
             "#bd3786"
            ],
            [
             0.5555555555555556,
             "#d8576b"
            ],
            [
             0.6666666666666666,
             "#ed7953"
            ],
            [
             0.7777777777777778,
             "#fb9f3a"
            ],
            [
             0.8888888888888888,
             "#fdca26"
            ],
            [
             1,
             "#f0f921"
            ]
           ],
           "sequentialminus": [
            [
             0,
             "#0d0887"
            ],
            [
             0.1111111111111111,
             "#46039f"
            ],
            [
             0.2222222222222222,
             "#7201a8"
            ],
            [
             0.3333333333333333,
             "#9c179e"
            ],
            [
             0.4444444444444444,
             "#bd3786"
            ],
            [
             0.5555555555555556,
             "#d8576b"
            ],
            [
             0.6666666666666666,
             "#ed7953"
            ],
            [
             0.7777777777777778,
             "#fb9f3a"
            ],
            [
             0.8888888888888888,
             "#fdca26"
            ],
            [
             1,
             "#f0f921"
            ]
           ]
          },
          "colorway": [
           "#636efa",
           "#EF553B",
           "#00cc96",
           "#ab63fa",
           "#FFA15A",
           "#19d3f3",
           "#FF6692",
           "#B6E880",
           "#FF97FF",
           "#FECB52"
          ],
          "font": {
           "color": "#2a3f5f"
          },
          "geo": {
           "bgcolor": "white",
           "lakecolor": "white",
           "landcolor": "#E5ECF6",
           "showlakes": true,
           "showland": true,
           "subunitcolor": "white"
          },
          "hoverlabel": {
           "align": "left"
          },
          "hovermode": "closest",
          "mapbox": {
           "style": "light"
          },
          "paper_bgcolor": "white",
          "plot_bgcolor": "#E5ECF6",
          "polar": {
           "angularaxis": {
            "gridcolor": "white",
            "linecolor": "white",
            "ticks": ""
           },
           "bgcolor": "#E5ECF6",
           "radialaxis": {
            "gridcolor": "white",
            "linecolor": "white",
            "ticks": ""
           }
          },
          "scene": {
           "xaxis": {
            "backgroundcolor": "#E5ECF6",
            "gridcolor": "white",
            "gridwidth": 2,
            "linecolor": "white",
            "showbackground": true,
            "ticks": "",
            "zerolinecolor": "white"
           },
           "yaxis": {
            "backgroundcolor": "#E5ECF6",
            "gridcolor": "white",
            "gridwidth": 2,
            "linecolor": "white",
            "showbackground": true,
            "ticks": "",
            "zerolinecolor": "white"
           },
           "zaxis": {
            "backgroundcolor": "#E5ECF6",
            "gridcolor": "white",
            "gridwidth": 2,
            "linecolor": "white",
            "showbackground": true,
            "ticks": "",
            "zerolinecolor": "white"
           }
          },
          "shapedefaults": {
           "line": {
            "color": "#2a3f5f"
           }
          },
          "ternary": {
           "aaxis": {
            "gridcolor": "white",
            "linecolor": "white",
            "ticks": ""
           },
           "baxis": {
            "gridcolor": "white",
            "linecolor": "white",
            "ticks": ""
           },
           "bgcolor": "#E5ECF6",
           "caxis": {
            "gridcolor": "white",
            "linecolor": "white",
            "ticks": ""
           }
          },
          "title": {
           "x": 0.05
          },
          "xaxis": {
           "automargin": true,
           "gridcolor": "white",
           "linecolor": "white",
           "ticks": "",
           "title": {
            "standoff": 15
           },
           "zerolinecolor": "white",
           "zerolinewidth": 2
          },
          "yaxis": {
           "automargin": true,
           "gridcolor": "white",
           "linecolor": "white",
           "ticks": "",
           "title": {
            "standoff": 15
           },
           "zerolinecolor": "white",
           "zerolinewidth": 2
          }
         }
        },
        "title": {
         "text": "Top 10 Positive Transaction Types"
        }
       }
      }
     },
     "metadata": {},
     "output_type": "display_data"
    }
   ],
   "source": [
    "def description_pie_chart(df, type=\"+\", legend=False):\n",
    "    \"\"\"Call this function to plot the description pie chart, with the option to filter by type.\"\"\"\n",
    "\n",
    "    # clean the description column\n",
    "    to_plot = clean_description(df)\n",
    "\n",
    "    if type == \"+\":\n",
    "        to_plot = to_plot[to_plot['Amount'] >= 0]\n",
    "        title=\"Top 10 Positive Transaction Types\"\n",
    "    elif type == \"-\":\n",
    "        to_plot = to_plot[to_plot['Amount'] < 0]\n",
    "        title=\"Top 10 Negative Transaction Types\"\n",
    "\n",
    "    fig = px.pie(df, values='Description', names=df.index, title=title)\n",
    "\n",
    "    # remove the legend\n",
    "    fig.update_layout(showlegend=legend)\n",
    "\n",
    "    return fig\n",
    "\n",
    "description_pie_chart(df).show()"
   ]
  },
  {
   "cell_type": "code",
   "execution_count": 94,
   "metadata": {},
   "outputs": [
    {
     "data": {
      "application/vnd.plotly.v1+json": {
       "config": {
        "plotlyServerURL": "https://plot.ly"
       },
       "data": [
        {
         "domain": {
          "x": [
           0,
           1
          ],
          "y": [
           0,
           1
          ]
         },
         "hovertemplate": "index=%{label}<br>Description=%{value}<extra></extra>",
         "labels": [
          "TARGET 0003 STATE COLLEGE PA",
          "PENN STATE FOOD SE UNIVERSITY PA PA",
          "SQ *ELIXR STATE CO State College PA",
          "INTERNATIONAL PURCHASE TRANSACTION FEE",
          "438PEPSIVEN9147678 ALTOONA PA",
          "SQ *VIBE COFFEE State College PA",
          "PSU VENDING 1-855- DUNBAR PA",
          "CONTINENTAL LAUNDR PITTSBURGH PA",
          "PANERA BREAD #6092 UNIVERSITY PA PA",
          "PANERA BREAD #6092 UNIVERSITYPAR PA"
         ],
         "legendgroup": "",
         "name": "",
         "showlegend": true,
         "type": "pie",
         "values": [
          22,
          21,
          18,
          15,
          13,
          11,
          10,
          9,
          8,
          7
         ]
        }
       ],
       "layout": {
        "legend": {
         "tracegroupgap": 0
        },
        "showlegend": false,
        "template": {
         "data": {
          "bar": [
           {
            "error_x": {
             "color": "#2a3f5f"
            },
            "error_y": {
             "color": "#2a3f5f"
            },
            "marker": {
             "line": {
              "color": "#E5ECF6",
              "width": 0.5
             },
             "pattern": {
              "fillmode": "overlay",
              "size": 10,
              "solidity": 0.2
             }
            },
            "type": "bar"
           }
          ],
          "barpolar": [
           {
            "marker": {
             "line": {
              "color": "#E5ECF6",
              "width": 0.5
             },
             "pattern": {
              "fillmode": "overlay",
              "size": 10,
              "solidity": 0.2
             }
            },
            "type": "barpolar"
           }
          ],
          "carpet": [
           {
            "aaxis": {
             "endlinecolor": "#2a3f5f",
             "gridcolor": "white",
             "linecolor": "white",
             "minorgridcolor": "white",
             "startlinecolor": "#2a3f5f"
            },
            "baxis": {
             "endlinecolor": "#2a3f5f",
             "gridcolor": "white",
             "linecolor": "white",
             "minorgridcolor": "white",
             "startlinecolor": "#2a3f5f"
            },
            "type": "carpet"
           }
          ],
          "choropleth": [
           {
            "colorbar": {
             "outlinewidth": 0,
             "ticks": ""
            },
            "type": "choropleth"
           }
          ],
          "contour": [
           {
            "colorbar": {
             "outlinewidth": 0,
             "ticks": ""
            },
            "colorscale": [
             [
              0,
              "#0d0887"
             ],
             [
              0.1111111111111111,
              "#46039f"
             ],
             [
              0.2222222222222222,
              "#7201a8"
             ],
             [
              0.3333333333333333,
              "#9c179e"
             ],
             [
              0.4444444444444444,
              "#bd3786"
             ],
             [
              0.5555555555555556,
              "#d8576b"
             ],
             [
              0.6666666666666666,
              "#ed7953"
             ],
             [
              0.7777777777777778,
              "#fb9f3a"
             ],
             [
              0.8888888888888888,
              "#fdca26"
             ],
             [
              1,
              "#f0f921"
             ]
            ],
            "type": "contour"
           }
          ],
          "contourcarpet": [
           {
            "colorbar": {
             "outlinewidth": 0,
             "ticks": ""
            },
            "type": "contourcarpet"
           }
          ],
          "heatmap": [
           {
            "colorbar": {
             "outlinewidth": 0,
             "ticks": ""
            },
            "colorscale": [
             [
              0,
              "#0d0887"
             ],
             [
              0.1111111111111111,
              "#46039f"
             ],
             [
              0.2222222222222222,
              "#7201a8"
             ],
             [
              0.3333333333333333,
              "#9c179e"
             ],
             [
              0.4444444444444444,
              "#bd3786"
             ],
             [
              0.5555555555555556,
              "#d8576b"
             ],
             [
              0.6666666666666666,
              "#ed7953"
             ],
             [
              0.7777777777777778,
              "#fb9f3a"
             ],
             [
              0.8888888888888888,
              "#fdca26"
             ],
             [
              1,
              "#f0f921"
             ]
            ],
            "type": "heatmap"
           }
          ],
          "heatmapgl": [
           {
            "colorbar": {
             "outlinewidth": 0,
             "ticks": ""
            },
            "colorscale": [
             [
              0,
              "#0d0887"
             ],
             [
              0.1111111111111111,
              "#46039f"
             ],
             [
              0.2222222222222222,
              "#7201a8"
             ],
             [
              0.3333333333333333,
              "#9c179e"
             ],
             [
              0.4444444444444444,
              "#bd3786"
             ],
             [
              0.5555555555555556,
              "#d8576b"
             ],
             [
              0.6666666666666666,
              "#ed7953"
             ],
             [
              0.7777777777777778,
              "#fb9f3a"
             ],
             [
              0.8888888888888888,
              "#fdca26"
             ],
             [
              1,
              "#f0f921"
             ]
            ],
            "type": "heatmapgl"
           }
          ],
          "histogram": [
           {
            "marker": {
             "pattern": {
              "fillmode": "overlay",
              "size": 10,
              "solidity": 0.2
             }
            },
            "type": "histogram"
           }
          ],
          "histogram2d": [
           {
            "colorbar": {
             "outlinewidth": 0,
             "ticks": ""
            },
            "colorscale": [
             [
              0,
              "#0d0887"
             ],
             [
              0.1111111111111111,
              "#46039f"
             ],
             [
              0.2222222222222222,
              "#7201a8"
             ],
             [
              0.3333333333333333,
              "#9c179e"
             ],
             [
              0.4444444444444444,
              "#bd3786"
             ],
             [
              0.5555555555555556,
              "#d8576b"
             ],
             [
              0.6666666666666666,
              "#ed7953"
             ],
             [
              0.7777777777777778,
              "#fb9f3a"
             ],
             [
              0.8888888888888888,
              "#fdca26"
             ],
             [
              1,
              "#f0f921"
             ]
            ],
            "type": "histogram2d"
           }
          ],
          "histogram2dcontour": [
           {
            "colorbar": {
             "outlinewidth": 0,
             "ticks": ""
            },
            "colorscale": [
             [
              0,
              "#0d0887"
             ],
             [
              0.1111111111111111,
              "#46039f"
             ],
             [
              0.2222222222222222,
              "#7201a8"
             ],
             [
              0.3333333333333333,
              "#9c179e"
             ],
             [
              0.4444444444444444,
              "#bd3786"
             ],
             [
              0.5555555555555556,
              "#d8576b"
             ],
             [
              0.6666666666666666,
              "#ed7953"
             ],
             [
              0.7777777777777778,
              "#fb9f3a"
             ],
             [
              0.8888888888888888,
              "#fdca26"
             ],
             [
              1,
              "#f0f921"
             ]
            ],
            "type": "histogram2dcontour"
           }
          ],
          "mesh3d": [
           {
            "colorbar": {
             "outlinewidth": 0,
             "ticks": ""
            },
            "type": "mesh3d"
           }
          ],
          "parcoords": [
           {
            "line": {
             "colorbar": {
              "outlinewidth": 0,
              "ticks": ""
             }
            },
            "type": "parcoords"
           }
          ],
          "pie": [
           {
            "automargin": true,
            "type": "pie"
           }
          ],
          "scatter": [
           {
            "fillpattern": {
             "fillmode": "overlay",
             "size": 10,
             "solidity": 0.2
            },
            "type": "scatter"
           }
          ],
          "scatter3d": [
           {
            "line": {
             "colorbar": {
              "outlinewidth": 0,
              "ticks": ""
             }
            },
            "marker": {
             "colorbar": {
              "outlinewidth": 0,
              "ticks": ""
             }
            },
            "type": "scatter3d"
           }
          ],
          "scattercarpet": [
           {
            "marker": {
             "colorbar": {
              "outlinewidth": 0,
              "ticks": ""
             }
            },
            "type": "scattercarpet"
           }
          ],
          "scattergeo": [
           {
            "marker": {
             "colorbar": {
              "outlinewidth": 0,
              "ticks": ""
             }
            },
            "type": "scattergeo"
           }
          ],
          "scattergl": [
           {
            "marker": {
             "colorbar": {
              "outlinewidth": 0,
              "ticks": ""
             }
            },
            "type": "scattergl"
           }
          ],
          "scattermapbox": [
           {
            "marker": {
             "colorbar": {
              "outlinewidth": 0,
              "ticks": ""
             }
            },
            "type": "scattermapbox"
           }
          ],
          "scatterpolar": [
           {
            "marker": {
             "colorbar": {
              "outlinewidth": 0,
              "ticks": ""
             }
            },
            "type": "scatterpolar"
           }
          ],
          "scatterpolargl": [
           {
            "marker": {
             "colorbar": {
              "outlinewidth": 0,
              "ticks": ""
             }
            },
            "type": "scatterpolargl"
           }
          ],
          "scatterternary": [
           {
            "marker": {
             "colorbar": {
              "outlinewidth": 0,
              "ticks": ""
             }
            },
            "type": "scatterternary"
           }
          ],
          "surface": [
           {
            "colorbar": {
             "outlinewidth": 0,
             "ticks": ""
            },
            "colorscale": [
             [
              0,
              "#0d0887"
             ],
             [
              0.1111111111111111,
              "#46039f"
             ],
             [
              0.2222222222222222,
              "#7201a8"
             ],
             [
              0.3333333333333333,
              "#9c179e"
             ],
             [
              0.4444444444444444,
              "#bd3786"
             ],
             [
              0.5555555555555556,
              "#d8576b"
             ],
             [
              0.6666666666666666,
              "#ed7953"
             ],
             [
              0.7777777777777778,
              "#fb9f3a"
             ],
             [
              0.8888888888888888,
              "#fdca26"
             ],
             [
              1,
              "#f0f921"
             ]
            ],
            "type": "surface"
           }
          ],
          "table": [
           {
            "cells": {
             "fill": {
              "color": "#EBF0F8"
             },
             "line": {
              "color": "white"
             }
            },
            "header": {
             "fill": {
              "color": "#C8D4E3"
             },
             "line": {
              "color": "white"
             }
            },
            "type": "table"
           }
          ]
         },
         "layout": {
          "annotationdefaults": {
           "arrowcolor": "#2a3f5f",
           "arrowhead": 0,
           "arrowwidth": 1
          },
          "autotypenumbers": "strict",
          "coloraxis": {
           "colorbar": {
            "outlinewidth": 0,
            "ticks": ""
           }
          },
          "colorscale": {
           "diverging": [
            [
             0,
             "#8e0152"
            ],
            [
             0.1,
             "#c51b7d"
            ],
            [
             0.2,
             "#de77ae"
            ],
            [
             0.3,
             "#f1b6da"
            ],
            [
             0.4,
             "#fde0ef"
            ],
            [
             0.5,
             "#f7f7f7"
            ],
            [
             0.6,
             "#e6f5d0"
            ],
            [
             0.7,
             "#b8e186"
            ],
            [
             0.8,
             "#7fbc41"
            ],
            [
             0.9,
             "#4d9221"
            ],
            [
             1,
             "#276419"
            ]
           ],
           "sequential": [
            [
             0,
             "#0d0887"
            ],
            [
             0.1111111111111111,
             "#46039f"
            ],
            [
             0.2222222222222222,
             "#7201a8"
            ],
            [
             0.3333333333333333,
             "#9c179e"
            ],
            [
             0.4444444444444444,
             "#bd3786"
            ],
            [
             0.5555555555555556,
             "#d8576b"
            ],
            [
             0.6666666666666666,
             "#ed7953"
            ],
            [
             0.7777777777777778,
             "#fb9f3a"
            ],
            [
             0.8888888888888888,
             "#fdca26"
            ],
            [
             1,
             "#f0f921"
            ]
           ],
           "sequentialminus": [
            [
             0,
             "#0d0887"
            ],
            [
             0.1111111111111111,
             "#46039f"
            ],
            [
             0.2222222222222222,
             "#7201a8"
            ],
            [
             0.3333333333333333,
             "#9c179e"
            ],
            [
             0.4444444444444444,
             "#bd3786"
            ],
            [
             0.5555555555555556,
             "#d8576b"
            ],
            [
             0.6666666666666666,
             "#ed7953"
            ],
            [
             0.7777777777777778,
             "#fb9f3a"
            ],
            [
             0.8888888888888888,
             "#fdca26"
            ],
            [
             1,
             "#f0f921"
            ]
           ]
          },
          "colorway": [
           "#636efa",
           "#EF553B",
           "#00cc96",
           "#ab63fa",
           "#FFA15A",
           "#19d3f3",
           "#FF6692",
           "#B6E880",
           "#FF97FF",
           "#FECB52"
          ],
          "font": {
           "color": "#2a3f5f"
          },
          "geo": {
           "bgcolor": "white",
           "lakecolor": "white",
           "landcolor": "#E5ECF6",
           "showlakes": true,
           "showland": true,
           "subunitcolor": "white"
          },
          "hoverlabel": {
           "align": "left"
          },
          "hovermode": "closest",
          "mapbox": {
           "style": "light"
          },
          "paper_bgcolor": "white",
          "plot_bgcolor": "#E5ECF6",
          "polar": {
           "angularaxis": {
            "gridcolor": "white",
            "linecolor": "white",
            "ticks": ""
           },
           "bgcolor": "#E5ECF6",
           "radialaxis": {
            "gridcolor": "white",
            "linecolor": "white",
            "ticks": ""
           }
          },
          "scene": {
           "xaxis": {
            "backgroundcolor": "#E5ECF6",
            "gridcolor": "white",
            "gridwidth": 2,
            "linecolor": "white",
            "showbackground": true,
            "ticks": "",
            "zerolinecolor": "white"
           },
           "yaxis": {
            "backgroundcolor": "#E5ECF6",
            "gridcolor": "white",
            "gridwidth": 2,
            "linecolor": "white",
            "showbackground": true,
            "ticks": "",
            "zerolinecolor": "white"
           },
           "zaxis": {
            "backgroundcolor": "#E5ECF6",
            "gridcolor": "white",
            "gridwidth": 2,
            "linecolor": "white",
            "showbackground": true,
            "ticks": "",
            "zerolinecolor": "white"
           }
          },
          "shapedefaults": {
           "line": {
            "color": "#2a3f5f"
           }
          },
          "ternary": {
           "aaxis": {
            "gridcolor": "white",
            "linecolor": "white",
            "ticks": ""
           },
           "baxis": {
            "gridcolor": "white",
            "linecolor": "white",
            "ticks": ""
           },
           "bgcolor": "#E5ECF6",
           "caxis": {
            "gridcolor": "white",
            "linecolor": "white",
            "ticks": ""
           }
          },
          "title": {
           "x": 0.05
          },
          "xaxis": {
           "automargin": true,
           "gridcolor": "white",
           "linecolor": "white",
           "ticks": "",
           "title": {
            "standoff": 15
           },
           "zerolinecolor": "white",
           "zerolinewidth": 2
          },
          "yaxis": {
           "automargin": true,
           "gridcolor": "white",
           "linecolor": "white",
           "ticks": "",
           "title": {
            "standoff": 15
           },
           "zerolinecolor": "white",
           "zerolinewidth": 2
          }
         }
        },
        "title": {
         "text": "Top 10 Negative Transaction Types"
        }
       }
      }
     },
     "metadata": {},
     "output_type": "display_data"
    }
   ],
   "source": [
    "description_pie_chart(df, type=\"-\", title=\"Top 10 Negative Transaction Types\").show()"
   ]
  },
  {
   "cell_type": "code",
   "execution_count": 102,
   "metadata": {},
   "outputs": [],
   "source": [
    "def clean_description(df):\n",
    "    \"\"\"Call this function to clean the description column of the dataframe.\"\"\"\n",
    "\n",
    "    descr_clean = df.copy()\n",
    "\n",
    "    # remove all of these patterns from the description column\n",
    "    patterns = [\n",
    "        r\"PURCHASE AUTHORIZED ON \\d{2}/\\d{2}\",\n",
    "        r\"\\b\\w{16}\\sCARD\\s\\d{4}\\b\",\n",
    "        r\"PURCHASE INTL AUTHORIZED ON \\d{2}/\\d{2}\",\n",
    "    ]\n",
    "    for pattern in patterns:\n",
    "        descr_clean[\"Description\"] = (\n",
    "            descr_clean[\"Description\"].str.replace(pattern, \"\", regex=True).str.strip()\n",
    "        )\n",
    "\n",
    "    custom_categories = {\n",
    "        \"Penn State Apt Rent\": \"Rent\",\n",
    "        \"ONLINE TRANSFER FROM GLATZER G\": \"Savings Transfer\",\n",
    "        \"VENMO CASHOUT\": \"Venmo Cashout\",\n",
    "        \"PANERA BREAD\": \"Panera Bread\",\n",
    "    }\n",
    "\n",
    "    # replace the custom categories\n",
    "    for custom_category in custom_categories:\n",
    "        # if the custom category is in the description, replace it\n",
    "        descr_clean.loc[\n",
    "            descr_clean[\"Description\"].str.contains(custom_category), \"Description\"\n",
    "        ] = custom_categories[custom_category]\n",
    "\n",
    "    return descr_clean"
   ]
  },
  {
   "cell_type": "code",
   "execution_count": 107,
   "metadata": {},
   "outputs": [
    {
     "data": {
      "text/html": [
       "<div>\n",
       "<style scoped>\n",
       "    .dataframe tbody tr th:only-of-type {\n",
       "        vertical-align: middle;\n",
       "    }\n",
       "\n",
       "    .dataframe tbody tr th {\n",
       "        vertical-align: top;\n",
       "    }\n",
       "\n",
       "    .dataframe thead th {\n",
       "        text-align: right;\n",
       "    }\n",
       "</style>\n",
       "<table border=\"1\" class=\"dataframe\">\n",
       "  <thead>\n",
       "    <tr style=\"text-align: right;\">\n",
       "      <th></th>\n",
       "      <th>Description</th>\n",
       "      <th>Total Amount</th>\n",
       "    </tr>\n",
       "  </thead>\n",
       "  <tbody>\n",
       "    <tr>\n",
       "      <th>108</th>\n",
       "      <td>Savings Transfer</td>\n",
       "      <td>9100.00</td>\n",
       "    </tr>\n",
       "    <tr>\n",
       "      <th>156</th>\n",
       "      <td>Venmo Cashout</td>\n",
       "      <td>1146.36</td>\n",
       "    </tr>\n",
       "    <tr>\n",
       "      <th>42</th>\n",
       "      <td>IRS TREAS 310 TAX REF 032223 XXXXXXXXXX00908 G...</td>\n",
       "      <td>67.00</td>\n",
       "    </tr>\n",
       "    <tr>\n",
       "      <th>23</th>\n",
       "      <td>DUNKIN #349071 Q35 STATE COLLEGE PA</td>\n",
       "      <td>-1.39</td>\n",
       "    </tr>\n",
       "    <tr>\n",
       "      <th>106</th>\n",
       "      <td>SUNOCO 03679966 WAYNE PA</td>\n",
       "      <td>-1.49</td>\n",
       "    </tr>\n",
       "    <tr>\n",
       "      <th>65</th>\n",
       "      <td>RECURRING PAYMENT AUTHORIZED ON 03/13 GOOGLE *...</td>\n",
       "      <td>-2.11</td>\n",
       "    </tr>\n",
       "    <tr>\n",
       "      <th>68</th>\n",
       "      <td>RECURRING PAYMENT AUTHORIZED ON 05/12 GOOGLE *...</td>\n",
       "      <td>-2.11</td>\n",
       "    </tr>\n",
       "    <tr>\n",
       "      <th>67</th>\n",
       "      <td>RECURRING PAYMENT AUTHORIZED ON 04/12 GOOGLE *...</td>\n",
       "      <td>-2.11</td>\n",
       "    </tr>\n",
       "    <tr>\n",
       "      <th>88</th>\n",
       "      <td>SQ *MCLANAHAN'S DO State College PA</td>\n",
       "      <td>-2.22</td>\n",
       "    </tr>\n",
       "    <tr>\n",
       "      <th>34</th>\n",
       "      <td>GIANT 6072 255 NORTHLA STATE COLLEGE PA</td>\n",
       "      <td>-2.29</td>\n",
       "    </tr>\n",
       "  </tbody>\n",
       "</table>\n",
       "</div>"
      ],
      "text/plain": [
       "                                           Description  Total Amount\n",
       "108                                   Savings Transfer       9100.00\n",
       "156                                      Venmo Cashout       1146.36\n",
       "42   IRS TREAS 310 TAX REF 032223 XXXXXXXXXX00908 G...         67.00\n",
       "23                 DUNKIN #349071 Q35 STATE COLLEGE PA         -1.39\n",
       "106                           SUNOCO 03679966 WAYNE PA         -1.49\n",
       "65   RECURRING PAYMENT AUTHORIZED ON 03/13 GOOGLE *...         -2.11\n",
       "68   RECURRING PAYMENT AUTHORIZED ON 05/12 GOOGLE *...         -2.11\n",
       "67   RECURRING PAYMENT AUTHORIZED ON 04/12 GOOGLE *...         -2.11\n",
       "88                 SQ *MCLANAHAN'S DO State College PA         -2.22\n",
       "34             GIANT 6072 255 NORTHLA STATE COLLEGE PA         -2.29"
      ]
     },
     "execution_count": 107,
     "metadata": {},
     "output_type": "execute_result"
    }
   ],
   "source": [
    "clean_description(df).groupby(\"Description\").sum().reset_index().rename(columns={\"Amount\": \"Total Amount\"}).sort_values(by=\"Total Amount\", ascending=False).head(10)"
   ]
  },
  {
   "cell_type": "code",
   "execution_count": null,
   "metadata": {},
   "outputs": [],
   "source": []
  }
 ],
 "metadata": {
  "kernelspec": {
   "display_name": "Python 3",
   "language": "python",
   "name": "python3"
  },
  "language_info": {
   "codemirror_mode": {
    "name": "ipython",
    "version": 3
   },
   "file_extension": ".py",
   "mimetype": "text/x-python",
   "name": "python",
   "nbconvert_exporter": "python",
   "pygments_lexer": "ipython3",
   "version": "3.10.4"
  },
  "orig_nbformat": 4
 },
 "nbformat": 4,
 "nbformat_minor": 2
}
